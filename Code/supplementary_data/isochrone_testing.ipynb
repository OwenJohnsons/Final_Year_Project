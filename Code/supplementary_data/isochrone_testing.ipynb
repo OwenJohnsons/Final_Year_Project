{
 "cells": [
  {
   "cell_type": "markdown",
   "metadata": {},
   "source": [
    "# Isochrone Testing Notebook\n",
    "\n",
    "Notebook used for testing features in the isochrone package and get used to what will be required in data analysis . "
   ]
  },
  {
   "cell_type": "code",
   "execution_count": 1,
   "metadata": {},
   "outputs": [
    {
     "name": "stderr",
     "output_type": "stream",
     "text": [
      "PyMultiNest not imported.  MultiNest fits will not work.\n"
     ]
    },
    {
     "data": {
      "text/plain": [
       "array([7.93829519e-01, 7.91444054e-01, 6.30305932e+03])"
      ]
     },
     "execution_count": 1,
     "metadata": {},
     "output_type": "execute_result"
    }
   ],
   "source": [
    "from isochrones.mist import MIST_Isochrone\n",
    "\n",
    "mist = MIST_Isochrone()\n",
    "\n",
    "pars = [353, 9.78, -1.24]  # eep, log(age), feh -> taken parameters. \n",
    "mist.interp_value(pars, ['mass', 'radius', 'Teff'])"
   ]
  },
  {
   "cell_type": "code",
   "execution_count": 2,
   "metadata": {},
   "outputs": [
    {
     "data": {
      "text/plain": [
       "(6303.059322477636,\n",
       " 4.540738764316164,\n",
       " -1.377262817643937,\n",
       " array([10.25117074, 11.73997659, 11.06530093]))"
      ]
     },
     "execution_count": 2,
     "metadata": {},
     "output_type": "execute_result"
    }
   ],
   "source": [
    "# --- Interpolating Apparant Magnitudes -- \n",
    "# We give the distance and extinction. \n",
    "mist.interp_mag(pars + [200, 0.11], ['K', 'BP', 'RP'])  # Returns Teff, logg, feh, mags"
   ]
  },
  {
   "cell_type": "markdown",
   "metadata": {},
   "source": [
    "## Evolutionary Tracks "
   ]
  },
  {
   "cell_type": "code",
   "execution_count": 75,
   "metadata": {},
   "outputs": [
    {
     "data": {
      "text/plain": [
       "array([7.93884297e-01, 7.90654387e-01, 5.01757814e+03, 1.00159267e+01])"
      ]
     },
     "execution_count": 75,
     "metadata": {},
     "output_type": "execute_result"
    }
   ],
   "source": [
    "from isochrones.mist import MIST_EvolutionTrack\n",
    "\n",
    "mist_track = MIST_EvolutionTrack()\n",
    "\n",
    "pars = [0.794, 353, 0.06]  # mass, eep, feh\n",
    "mist_track.interp_value(pars, ['mass', 'radius', 'Teff', 'age'])"
   ]
  },
  {
   "cell_type": "code",
   "execution_count": 4,
   "metadata": {},
   "outputs": [
    {
     "data": {
      "text/plain": [
       "array(0.79384375)"
      ]
     },
     "execution_count": 4,
     "metadata": {},
     "output_type": "execute_result"
    }
   ],
   "source": [
    "mist_track.mass(*pars)"
   ]
  },
  {
   "cell_type": "code",
   "execution_count": 49,
   "metadata": {},
   "outputs": [
    {
     "name": "stdout",
     "output_type": "stream",
     "text": [
      "       eep   age       feh      mass  initial_mass    radius    density   logTeff         Teff      logg      logL       Mbol    delta_nu        nu_max  phase   dm_deep     J_mag     H_mag     K_mag      G_mag     BP_mag     RP_mag    W1_mag    W2_mag    W3_mag   TESS_mag  Kepler_mag\n",
      "223  223.0  9.53  0.150280  0.143050      0.143050  0.174516  42.180653  3.477544  3003.536405  5.121475 -2.666895  11.407236  784.166776  20970.010838    0.0  0.004426  9.431466  8.785652  8.559155  12.766112  14.751373  11.522765  8.398324  8.200245  8.032482  11.381237   12.864034\n",
      "224  224.0  9.53  0.150322  0.147584      0.147584  0.178799  40.087436  3.479902  3019.769652  5.112821 -2.634744  11.326861  764.278510  20469.275694    0.0  0.004735  9.357895  8.713187  8.487450  12.662469  14.612210  11.426132  8.327414  8.129809  7.964879  11.287794   12.755405\n",
      "225  225.0  9.53  0.150371  0.152520      0.152521  0.183594  37.947213  3.482375  3036.910262  5.103613 -2.600544  11.241360  743.262638  19941.564071    0.0  0.004867  9.279581  8.635963  8.411037  12.552454  14.464805  11.323513  8.251886  8.054820  7.892865  11.188540   12.640135\n",
      "226  226.0  9.53  0.150419  0.157318      0.157319  0.184463  37.207738  3.480519  3024.116433  5.101786 -2.599872  11.239681  743.727871  20016.365145    0.0  0.004638  9.272895  8.629300  8.403586  12.569051  14.507867  11.334821  8.243224  8.045057  7.881000  11.197325   12.660600\n",
      "227  227.0  9.53  0.150468  0.161795      0.161796  0.189168  35.380463  3.482801  3040.176145  5.093340 -2.568570  11.161425  724.400166  19529.915275    0.0  0.005053  9.201366  8.558717  8.333774  12.467865  14.371764  11.240554  8.174286  7.976668  7.815386  11.106209   12.554499\n"
     ]
    }
   ],
   "source": [
    "df = mist.isochrone(9.53, 0.1).head()  # just show first few rows\n",
    "print(df.to_string())"
   ]
  },
  {
   "cell_type": "code",
   "execution_count": 50,
   "metadata": {},
   "outputs": [
    {
     "data": {
      "text/plain": [
       "'     radius      Mbol       nu_max      logL   logTeff      mass       feh      logg    eep   density  phase  initial_mass    delta_nu         Teff  interpolated      star_age       age   dt_deep     J_mag     H_mag     K_mag      G_mag     BP_mag     RP_mag    W1_mag    W2_mag    W3_mag   TESS_mag  Kepler_mag\\n0  0.787407  5.792554  4254.629601 -0.421021  3.707984  0.799894 -0.022828  4.548780  350.0  2.309862    0.0           0.8  180.951611  5104.857422           0.0  8.820835e+09  9.945510  0.014106  9.522214  9.040105  8.972502  10.872155  11.328430  10.258544  8.945414  8.989254  8.921756  10.247984   10.773706\\n1  0.888064  5.200732  3622.320906 -0.184293  3.741043  0.899876 -0.014426  4.495440  350.0  1.811345    0.0           0.9  160.622229  5508.624894           0.0  5.978967e+09  9.776626  0.013699  9.058407  8.667003  8.614974  10.224077  10.602879   9.678977  8.593946  8.622577  8.575349   9.671007   10.129692\\n2  1.006928  4.675907  3041.107996  0.025637  3.766249  0.999860 -0.014307  4.432089  350.0  1.380687    0.0           1.0  140.461247  5837.792961           0.0  4.106525e+09  9.613474  0.013304  8.644878  8.312159  8.270380   9.679998  10.005667   9.186911  8.253638  8.269467  8.238306   9.180275    9.590731'"
      ]
     },
     "execution_count": 50,
     "metadata": {},
     "output_type": "execute_result"
    }
   ],
   "source": [
    "from isochrones.mist import MIST_EvolutionTrack\n",
    "\n",
    "mist_track = MIST_EvolutionTrack()\n",
    "mist_track([0.8, 0.9, 1.0], 350, 0.0, distance=100, AV=0.1).to_string()"
   ]
  },
  {
   "cell_type": "code",
   "execution_count": 7,
   "metadata": {},
   "outputs": [
    {
     "name": "stderr",
     "output_type": "stream",
     "text": [
      "building irregular age grid: 100%|██████████| 2940/2940 [00:21<00:00, 135.22it/s]\n"
     ]
    },
    {
     "data": {
      "text/html": [
       "<div>\n",
       "<style scoped>\n",
       "    .dataframe tbody tr th:only-of-type {\n",
       "        vertical-align: middle;\n",
       "    }\n",
       "\n",
       "    .dataframe tbody tr th {\n",
       "        vertical-align: top;\n",
       "    }\n",
       "\n",
       "    .dataframe thead th {\n",
       "        text-align: right;\n",
       "    }\n",
       "</style>\n",
       "<table border=\"1\" class=\"dataframe\">\n",
       "  <thead>\n",
       "    <tr style=\"text-align: right;\">\n",
       "      <th></th>\n",
       "      <th>radius</th>\n",
       "      <th>Mbol</th>\n",
       "      <th>nu_max</th>\n",
       "      <th>logL</th>\n",
       "      <th>logTeff</th>\n",
       "      <th>mass</th>\n",
       "      <th>feh</th>\n",
       "      <th>logg</th>\n",
       "      <th>eep</th>\n",
       "      <th>density</th>\n",
       "      <th>...</th>\n",
       "      <th>RP_mag</th>\n",
       "      <th>W1_mag</th>\n",
       "      <th>W2_mag</th>\n",
       "      <th>W3_mag</th>\n",
       "      <th>TESS_mag</th>\n",
       "      <th>Kepler_mag</th>\n",
       "      <th>distance</th>\n",
       "      <th>AV</th>\n",
       "      <th>initial_feh</th>\n",
       "      <th>requested_age</th>\n",
       "    </tr>\n",
       "  </thead>\n",
       "  <tbody>\n",
       "    <tr>\n",
       "      <th>0</th>\n",
       "      <td>0.750611</td>\n",
       "      <td>5.977047</td>\n",
       "      <td>4787.598310</td>\n",
       "      <td>-0.494819</td>\n",
       "      <td>3.699978</td>\n",
       "      <td>0.809963</td>\n",
       "      <td>0.028094</td>\n",
       "      <td>4.595858</td>\n",
       "      <td>320.808</td>\n",
       "      <td>2.703371</td>\n",
       "      <td>...</td>\n",
       "      <td>5.375416</td>\n",
       "      <td>4.066499</td>\n",
       "      <td>4.117992</td>\n",
       "      <td>4.047535</td>\n",
       "      <td>5.365712</td>\n",
       "      <td>5.887722</td>\n",
       "      <td>10</td>\n",
       "      <td>0</td>\n",
       "      <td>0.01</td>\n",
       "      <td>9.51</td>\n",
       "    </tr>\n",
       "    <tr>\n",
       "      <th>1</th>\n",
       "      <td>0.853120</td>\n",
       "      <td>5.324246</td>\n",
       "      <td>3986.671794</td>\n",
       "      <td>-0.233698</td>\n",
       "      <td>3.737424</td>\n",
       "      <td>0.909935</td>\n",
       "      <td>0.021019</td>\n",
       "      <td>4.535170</td>\n",
       "      <td>332.280</td>\n",
       "      <td>2.066927</td>\n",
       "      <td>...</td>\n",
       "      <td>4.731979</td>\n",
       "      <td>3.684034</td>\n",
       "      <td>3.718112</td>\n",
       "      <td>3.670736</td>\n",
       "      <td>4.725020</td>\n",
       "      <td>5.169229</td>\n",
       "      <td>10</td>\n",
       "      <td>0</td>\n",
       "      <td>0.01</td>\n",
       "      <td>9.51</td>\n",
       "    </tr>\n",
       "    <tr>\n",
       "      <th>2</th>\n",
       "      <td>0.993830</td>\n",
       "      <td>4.705019</td>\n",
       "      <td>3154.677953</td>\n",
       "      <td>0.013993</td>\n",
       "      <td>3.766201</td>\n",
       "      <td>1.009887</td>\n",
       "      <td>0.006059</td>\n",
       "      <td>4.447853</td>\n",
       "      <td>343.800</td>\n",
       "      <td>1.451462</td>\n",
       "      <td>...</td>\n",
       "      <td>4.148937</td>\n",
       "      <td>3.276062</td>\n",
       "      <td>3.295002</td>\n",
       "      <td>3.266166</td>\n",
       "      <td>4.143362</td>\n",
       "      <td>4.531319</td>\n",
       "      <td>10</td>\n",
       "      <td>0</td>\n",
       "      <td>0.01</td>\n",
       "      <td>9.51</td>\n",
       "    </tr>\n",
       "  </tbody>\n",
       "</table>\n",
       "<p>3 rows × 33 columns</p>\n",
       "</div>"
      ],
      "text/plain": [
       "     radius      Mbol       nu_max      logL   logTeff      mass       feh  \\\n",
       "0  0.750611  5.977047  4787.598310 -0.494819  3.699978  0.809963  0.028094   \n",
       "1  0.853120  5.324246  3986.671794 -0.233698  3.737424  0.909935  0.021019   \n",
       "2  0.993830  4.705019  3154.677953  0.013993  3.766201  1.009887  0.006059   \n",
       "\n",
       "       logg      eep   density  ...    RP_mag    W1_mag    W2_mag    W3_mag  \\\n",
       "0  4.595858  320.808  2.703371  ...  5.375416  4.066499  4.117992  4.047535   \n",
       "1  4.535170  332.280  2.066927  ...  4.731979  3.684034  3.718112  3.670736   \n",
       "2  4.447853  343.800  1.451462  ...  4.148937  3.276062  3.295002  3.266166   \n",
       "\n",
       "   TESS_mag  Kepler_mag  distance  AV  initial_feh  requested_age  \n",
       "0  5.365712    5.887722        10   0         0.01           9.51  \n",
       "1  4.725020    5.169229        10   0         0.01           9.51  \n",
       "2  4.143362    4.531319        10   0         0.01           9.51  \n",
       "\n",
       "[3 rows x 33 columns]"
      ]
     },
     "execution_count": 7,
     "metadata": {},
     "output_type": "execute_result"
    }
   ],
   "source": [
    "mist_track.generate([0.81, 0.91, 1.01], 9.51, 0.01)"
   ]
  },
  {
   "cell_type": "code",
   "execution_count": 8,
   "metadata": {},
   "outputs": [
    {
     "data": {
      "text/plain": [
       "343.8"
      ]
     },
     "execution_count": 8,
     "metadata": {},
     "output_type": "execute_result"
    }
   ],
   "source": [
    "mist_track.get_eep(1.01, 9.51, 0.01)"
   ]
  },
  {
   "cell_type": "code",
   "execution_count": 9,
   "metadata": {},
   "outputs": [
    {
     "name": "stdout",
     "output_type": "stream",
     "text": [
      "69.7 ms ± 540 µs per loop (mean ± std. dev. of 7 runs, 10 loops each)\n"
     ]
    }
   ],
   "source": [
    "import numpy as np\n",
    "\n",
    "N = 10000\n",
    "mass = np.ones(N) * 1.01\n",
    "age = np.ones(N) * 9.82\n",
    "feh = np.ones(N) * 0.02\n",
    "%timeit mist_track.generate(mass, age, feh)"
   ]
  },
  {
   "cell_type": "code",
   "execution_count": 10,
   "metadata": {},
   "outputs": [
    {
     "data": {
      "text/plain": [
       "343.1963539123535"
      ]
     },
     "execution_count": 10,
     "metadata": {},
     "output_type": "execute_result"
    }
   ],
   "source": [
    "mist_track.get_eep(1.01, 9.51, 0.01, accurate=True)"
   ]
  },
  {
   "cell_type": "code",
   "execution_count": 11,
   "metadata": {},
   "outputs": [
    {
     "data": {
      "text/plain": [
       "[array([9.51806019]), array([9.50999994])]"
      ]
     },
     "execution_count": 11,
     "metadata": {},
     "output_type": "execute_result"
    }
   ],
   "source": [
    "[mist_track.interp_value([1.01, e, 0.01], ['age']) for e in [343.8, 343.1963539123535]]"
   ]
  },
  {
   "cell_type": "code",
   "execution_count": 54,
   "metadata": {},
   "outputs": [
    {
     "name": "stdout",
     "output_type": "stream",
     "text": [
      "       eep   age       feh      mass  initial_mass    radius    density  \\\n",
      "223  223.0  9.53  0.150280  0.143050      0.143050  0.174516  42.180653   \n",
      "224  224.0  9.53  0.150322  0.147584      0.147584  0.178799  40.087436   \n",
      "225  225.0  9.53  0.150371  0.152520      0.152521  0.183594  37.947213   \n",
      "226  226.0  9.53  0.150419  0.157318      0.157319  0.184463  37.207738   \n",
      "227  227.0  9.53  0.150468  0.161795      0.161796  0.189168  35.380463   \n",
      "\n",
      "      logTeff         Teff      logg  ...     H_mag     K_mag      G_mag  \\\n",
      "223  3.477544  3003.536405  5.121475  ...  8.785652  8.559155  12.766112   \n",
      "224  3.479902  3019.769652  5.112821  ...  8.713187  8.487450  12.662469   \n",
      "225  3.482375  3036.910262  5.103613  ...  8.635963  8.411037  12.552454   \n",
      "226  3.480519  3024.116433  5.101786  ...  8.629300  8.403586  12.569051   \n",
      "227  3.482801  3040.176145  5.093340  ...  8.558717  8.333774  12.467865   \n",
      "\n",
      "        BP_mag     RP_mag    W1_mag    W2_mag    W3_mag   TESS_mag  Kepler_mag  \n",
      "223  14.751373  11.522765  8.398324  8.200245  8.032482  11.381237   12.864034  \n",
      "224  14.612210  11.426132  8.327414  8.129809  7.964879  11.287794   12.755405  \n",
      "225  14.464805  11.323513  8.251886  8.054820  7.892865  11.188540   12.640135  \n",
      "226  14.507867  11.334821  8.243224  8.045057  7.881000  11.197325   12.660600  \n",
      "227  14.371764  11.240554  8.174286  7.976668  7.815386  11.106209   12.554499  \n",
      "\n",
      "[5 rows x 27 columns]\n"
     ]
    }
   ],
   "source": [
    "import hvplot.pandas\n",
    "\n",
    "iso1 = mist.model_grid.df.xs((9.5, 0.0), level=(0, 1))   # extract subgrid at log_age=9.5, feh=0.0\n",
    "\n",
    "test = mist.isochrone(9.53, 0.1).head()\n",
    "print(test)"
   ]
  },
  {
   "cell_type": "code",
   "execution_count": 29,
   "metadata": {},
   "outputs": [],
   "source": [
    "import matplotlib.pyplot as plt"
   ]
  },
  {
   "cell_type": "markdown",
   "metadata": {},
   "source": [
    "## The Pleiades "
   ]
  },
  {
   "cell_type": "code",
   "execution_count": 67,
   "metadata": {},
   "outputs": [
    {
     "name": "stderr",
     "output_type": "stream",
     "text": [
      "/Library/anaconda3/envs/isochrones/lib/python3.10/site-packages/tables/attributeset.py:464: NaturalNameWarning: object name is not a valid Python identifier: 'axis1_name[Fe/H]'; it does not match the pattern ``^[a-zA-Z_][a-zA-Z0-9_]*$``; you will not be able to use natural naming to access this object; using ``getattr()`` will still work, though\n",
      "  check_attribute_name(name)\n"
     ]
    },
    {
     "name": "stdout",
     "output_type": "stream",
     "text": [
      "                                g         r         i         V         H  \\\n",
      "Teff   logg [Fe/H] Av                                                       \n",
      "2500.0 -4.0 -4.0   0.00 -6.534742 -3.332877 -1.617626 -4.554260  2.927064   \n",
      "                   0.05 -6.590469 -3.375570 -1.650338 -4.601857  2.917990   \n",
      "                   0.10 -6.646182 -3.418258 -1.683043 -4.649439  2.908916   \n",
      "                   0.15 -6.701881 -3.460939 -1.715740 -4.697008  2.899842   \n",
      "                   0.20 -6.757566 -3.503615 -1.748429 -4.744563  2.890769   \n",
      "\n",
      "                                K         G        BP        RP  \n",
      "Teff   logg [Fe/H] Av                                            \n",
      "2500.0 -4.0 -4.0   0.00  3.436304 -2.181987 -4.652549 -0.881256  \n",
      "                   0.05  3.430463 -2.211638 -4.697705 -0.909058  \n",
      "                   0.10  3.424623 -2.241241 -4.742843 -0.936830  \n",
      "                   0.15  3.418782 -2.270798 -4.787964 -0.964572  \n",
      "                   0.20  3.412942 -2.300307 -4.833067 -0.992286  \n"
     ]
    }
   ],
   "source": [
    "V, BV = np.loadtxt('pld.txt', usecols = (2, 3), skiprows=2, unpack = True)\n",
    "\n",
    "\n",
    "from isochrones.mist.bc import MISTBolometricCorrectionGrid\n",
    "\n",
    "bc_grid = MISTBolometricCorrectionGrid(['V', 'H', 'K', 'G', 'BP', 'RP', 'g', 'r', 'i'])\n",
    "print(bc_grid.df.head())"
   ]
  },
  {
   "cell_type": "code",
   "execution_count": 62,
   "metadata": {},
   "outputs": [
    {
     "name": "stdout",
     "output_type": "stream",
     "text": [
      "     eep  age       feh      mass  initial_mass    radius    density  \\\n",
      "EEP                                                                    \n",
      "215  215  9.5  0.043170  0.100000      0.100000  0.126170  70.190526   \n",
      "216  216  9.5  0.043173  0.100511      0.100511  0.126610  69.815927   \n",
      "217  217  9.5  0.043200  0.104725      0.104726  0.130300  66.737235   \n",
      "218  218  9.5  0.043229  0.108974      0.108975  0.134129  63.666316   \n",
      "219  219  9.5  0.043261  0.113491      0.113491  0.138321  60.456755   \n",
      "\n",
      "      logTeff         Teff      logg      logL       Mbol     delta_nu  \\\n",
      "EEP                                                                      \n",
      "215  3.460286  2885.929083  5.236231 -3.002297  12.245744  1045.678573   \n",
      "216  3.460643  2888.303982  5.235005 -2.997844  12.234609  1042.702492   \n",
      "217  3.463590  2907.969364  5.224898 -2.961105  12.142764  1018.155965   \n",
      "218  3.466561  2927.935346  5.214708 -2.924064  12.050160   993.410237   \n",
      "219  3.469720  2949.308625  5.203880 -2.884696  11.951740   967.113368   \n",
      "\n",
      "           nu_max  phase   dm_deep  \n",
      "EEP                                 \n",
      "215  27552.079725    0.0  0.000511  \n",
      "216  27475.675680    0.0  0.002363  \n",
      "217  26845.508167    0.0  0.004232  \n",
      "218  26210.246332    0.0  0.004383  \n",
      "219  25535.182157    0.0  0.004398  \n"
     ]
    },
    {
     "data": {
      "text/plain": [
       "[<matplotlib.lines.Line2D at 0x7fa3da2e65c0>]"
      ]
     },
     "execution_count": 62,
     "metadata": {},
     "output_type": "execute_result"
    },
    {
     "data": {
      "image/png": "[encoded data removed]",
      "text/plain": [
       "<Figure size 432x288 with 1 Axes>"
      ]
     },
     "metadata": {
      "needs_background": "light"
     },
     "output_type": "display_data"
    }
   ],
   "source": [
    "print(iso1.head())\n",
    "plt.plot(iso1['logTeff'], iso1['radius'])"
   ]
  },
  {
   "cell_type": "code",
   "execution_count": 46,
   "metadata": {},
   "outputs": [
    {
     "data": {
      "text/plain": [
       "Text(0, 0.5, 'V [mag]')"
      ]
     },
     "execution_count": 46,
     "metadata": {},
     "output_type": "execute_result"
    },
    {
     "data": {
      "image/png": "[encoded data removed]",
      "text/plain": [
       "<Figure size 720x720 with 1 Axes>"
      ]
     },
     "metadata": {
      "needs_background": "light"
     },
     "output_type": "display_data"
    }
   ],
   "source": [
    "plt.figure(figsize=(10, 10))\n",
    "plt.scatter(BV, V, s = 10, color = 'black')\n",
    "plt.gca().invert_yaxis()\n",
    "plt.xlabel('B - V [mag]'); plt.ylabel('V [mag]')"
   ]
  },
  {
   "cell_type": "code",
   "execution_count": 83,
   "metadata": {},
   "outputs": [
    {
     "data": {
      "text/plain": [
       "{'radius': 1.0024073595957388,\n",
       " 'Mbol': 4.687917861788,\n",
       " 'nu_max': 3069.483441621318,\n",
       " 'logL': 0.020832855284800236,\n",
       " 'logTeff': 3.7660247063306596,\n",
       " 'mass': 0.9998647639419379,\n",
       " 'feh': -0.012519050601435218,\n",
       " 'logg': 4.435999146983706,\n",
       " 'eep': 348.9796257019043,\n",
       " 'density': 1.3994609102302025,\n",
       " 'phase': 0.0,\n",
       " 'initial_mass': 1.0,\n",
       " 'delta_nu': 141.38238967974797,\n",
       " 'Teff': 5834.782979719397,\n",
       " 'interpolated': 0.0,\n",
       " 'star_age': 3981105831.456894,\n",
       " 'age': 9.599999663674296,\n",
       " 'dt_deep': 0.013280718567296703,\n",
       " 'J_mag': 12.179587871614814,\n",
       " 'H_mag': 11.835728922815576,\n",
       " 'K_mag': 11.787350220704182,\n",
       " 'BP_mag': 13.620832649193208,\n",
       " 'RP_mag': 12.758310445284703,\n",
       " 'G_mag': 13.27380470559853,\n",
       " 'distance': 500.0,\n",
       " 'AV': 0.2,\n",
       " 'initial_feh': 0.0,\n",
       " 'requested_age': 9.6}"
      ]
     },
     "execution_count": 83,
     "metadata": {},
     "output_type": "execute_result"
    }
   ],
   "source": [
    "from isochrones import BinaryStarModel\n",
    "from isochrones.utils import addmags\n",
    "\n",
    "\n",
    "props_A"
   ]
  }
 ],
 "metadata": {
  "interpreter": {
   "hash": "88e8d9bd290d56e61d1e53e793825cb064d0d8329cbde101b0172ac66777bcd8"
  },
  "kernelspec": {
   "display_name": "Python 3.10.0 ('isochrones')",
   "language": "python",
   "name": "python3"
  },
  "language_info": {
   "codemirror_mode": {
    "name": "ipython",
    "version": 3
   },
   "file_extension": ".py",
   "mimetype": "text/x-python",
   "name": "python",
   "nbconvert_exporter": "python",
   "pygments_lexer": "ipython3",
   "version": "3.10.0"
  },
  "orig_nbformat": 4
 },
 "nbformat": 4,
 "nbformat_minor": 2
}
