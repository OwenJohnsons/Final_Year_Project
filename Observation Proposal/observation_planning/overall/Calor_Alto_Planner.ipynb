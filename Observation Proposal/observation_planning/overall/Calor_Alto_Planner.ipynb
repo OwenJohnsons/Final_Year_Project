{
 "cells": [
  {
   "cell_type": "code",
   "execution_count": 4,
   "metadata": {},
   "outputs": [],
   "source": [
    "# - Package dependency loads - \n",
    "\n",
    "# --- Preamble --- \n",
    "import numpy as np\n",
    "import pandas as pd\n",
    "import matplotlib.pyplot as plt\n",
    "import qgrid\n",
    "import re\n",
    "from IPython.display import HTML\n",
    "from pytz import timezone # timezone information \n",
    "from pivottablejs import pivot_ui\n",
    "import datetime\n",
    "from datetime import time\n",
    "from datetime import timedelta\n",
    "\n",
    "# - Astro-packages\n",
    "import astropy\n",
    "import astropy.units as u\n",
    "import astropy.coordinates as coord\n",
    "import astropy.table\n",
    "from astropy.coordinates import SkyCoord, EarthLocation, AltAz, get_sun, get_moon #- for tranformations, takes ref. from simbad.\n",
    "from astropy.time import Time\n",
    "from astropy.table import QTable, Table\n",
    "from astroplan import (observability_table,FixedTarget, Observer, AltitudeConstraint, AtNightConstraint, MoonSeparationConstraint, SunSeparationConstraint)\n",
    "from astroplan.utils import time_grid_from_range\n",
    "from astroquery.simbad import Simbad "
   ]
  },
  {
   "cell_type": "code",
   "execution_count": 5,
   "metadata": {},
   "outputs": [],
   "source": [
    "CALOR_ALTO = Observer(name = 'Calar Alto Observatory 1.5 m',\n",
    "                    location = EarthLocation(lat = 37.224972*u.deg, lon = 11.93029*u.deg, height = 2168*u.m),\n",
    "                    timezone = timezone('Europe/Stockholm'),\n",
    "                    description = \"CAO 1.5m optical telescope\")"
   ]
  },
  {
   "cell_type": "code",
   "execution_count": 20,
   "metadata": {},
   "outputs": [],
   "source": [
    "def setup(start_time, end_time, alt_const_min, alt_const_max, sun_sep, granulation, observatory, file_location, distance_calculator):\n",
    "    \"\"\"\n",
    "    ---\n",
    "    SETUP\n",
    "\n",
    "    Uses below listed parameter's to constrain targets in a specific window from a masterlist provided by TESS. The constraint is placed upon the targets by astroplan. \n",
    "    A .csv with avalible targets for both targets are also written to disk for book-keeping purposes.  \n",
    "\n",
    "    Output: df - dataframe with constrainted targets. Easy to manpulate and write to .csv\n",
    "            targets - List of constrained targets in the astropy SkyCoord format. \n",
    "            time_s -  String containing observation window start-time \n",
    "            common_targets - table used for later cross-reference (not needed)\n",
    "            table - astroTable used for use with other astropy/astroplan modules (not needed)\n",
    "    ---\n",
    "    start_time - start of observation time, format: 'YYYY-MM-DD HH:MM'\n",
    "    end_time -  end of observation time, format: 'YYYY-MM-DD HH:MM'.\n",
    "    alt_const_min - min alt in degrees that station can observe. \n",
    "    alt_const_max - max alt in degrees that station can observe. \n",
    "    sun_sep - min seperation in degrees of Sun from desired target. \n",
    "    granulation - The time divisions table will be produced at, the value is a factor of one hour. i.e. 0.25 ~ 15 mins  \n",
    "    file_location - location of .csv in format, |Name|RA|DEC|\n",
    "    distance_calculator - When == True will index targets through Simbad to find distance in pc. Accuracy of this indexing is unreliable at best. \n",
    "    \"\"\"\n",
    "    # --- Timerange --- \n",
    "    time_range = Time([start_time, end_time]) # - window of obervation. \n",
    "    print(time_range)\n",
    "    time_s = re.sub('\\W+','', start_time )\n",
    "\n",
    "    # --- Station Constraints --- \n",
    "    constraints = [AltitudeConstraint(alt_const_min*u.deg, alt_const_max*u.deg), SunSeparationConstraint(min = sun_sep * u.deg)] # - Constraints based on alt and Sun constraints. (This can be easily and further expanded if needed.)\n",
    "\n",
    "    # --- Target loading and intial filtering --- \n",
    "    data_main = pd.read_csv(file_location) # - loading data from .csv \n",
    "    # previously_observed_targets = pd.read_csv('data\\observed_targets_masterlist.csv')\n",
    "    # previously_observed_targets_names = previously_observed_targets['Name'].astype(str).values.tolist() # - writing previously observed targets to strings \n",
    "\n",
    "    filtered_Station_targets = data_main[data_main['DEC'] > 0] # ; filtered_Onsula = data_main[data_main['DEC'] > 47] # - filtering based on what both I-LOFAR and LOFAR-SE stations have in their respective field of view. \n",
    "    # common_targets = filtered_ILOFAR.merge(filtered_Onsula, how = 'inner' ,indicator=False) # - merging the two data frames for common entries. \n",
    "\n",
    "    # --- Printing information about common targets. --- \n",
    "    # print('Number of objects that do not meet the criteria of both stations:', len(data_main['Name']) - len(common_targets))    \n",
    "    # print('Number of previously observed targets:', len(previously_observed_targets))\n",
    "\n",
    "    # # --- Removing previously observed entries --- \n",
    "    \n",
    "    # for i in range(len(previously_observed_targets)):     \n",
    "    #     common_targets = common_targets[common_targets.Name != previously_observed_targets_names[i]] # - removing previously observed targets based on the defined list of strings (target names)\n",
    "    \n",
    "    print('Number of objects avalible for observation:',  len(filtered_Station_targets))\n",
    "    \n",
    "\n",
    "    target_table = QTable.from_pandas(filtered_Station_targets) # - converting to astro-table for use in astroplan \n",
    "    targets = [FixedTarget(coord = SkyCoord(ra = ra*u.deg, dec = dec*u.deg), name = name) for name, ra, dec in target_table] # - converting into FixedTarget SkyCoords for values in the previous table. \n",
    "\n",
    "    table = observability_table(constraints, observatory, targets, time_range = time_range, time_grid_resolution = granulation * u.hour) # - generating observing table. \n",
    "    # print(table)\n",
    "\n",
    "    df = table.to_pandas() # - conversion to dataframe \n",
    "    df.sort_values(by = 'fraction of time observable', ascending = False, inplace = True) # - sorting based on name \n",
    "    #df.to_csv('data/target-lists/stations/%s/%s-Targets-%s.csv' % (str(observatory.name), str(observatory.name), time_s[2:8]), header = True, index  = False) # - saving to .csv \n",
    "\n",
    "    # --- distance calculation\n",
    "    \n",
    "    # if distance_calculator == True: \n",
    "    #     Simbad.add_votable_fields('typed_id', 'distance')\n",
    "    #     result = Simbad.query_objects(df['target name'])\n",
    "    #     df['Distance (pc)'] = result['Distance_distance']\n",
    "\n",
    "    return df, targets, time_s, filtered_Station_targets, table\n"
   ]
  },
  {
   "cell_type": "code",
   "execution_count": 21,
   "metadata": {},
   "outputs": [
    {
     "name": "stdout",
     "output_type": "stream",
     "text": [
      "['2022-03-09 18:30:00.000' '2022-03-09 23:30:00.000']\n",
      "Number of objects avalible for observation: 1\n"
     ]
    },
    {
     "data": {
      "text/plain": [
       "(  target name  ever observable  always observable  fraction of time observable\n",
       " 0     Kowal 2             True              False                     0.297125,\n",
       " [<FixedTarget \"Kowal 2\" at SkyCoord (ICRS): (ra, dec) in deg (58.775, 10.1622)>],\n",
       " '202203091830',\n",
       "       Name      RA      DEC\n",
       " 0  Kowal 2  58.775  10.1622,\n",
       " <Table length=1>\n",
       " target name ever observable always observable fraction of time observable\n",
       "     str7          bool             bool                 float64          \n",
       " ----------- --------------- ----------------- ---------------------------\n",
       "     Kowal 2            True             False          0.2971246006389776)"
      ]
     },
     "execution_count": 21,
     "metadata": {},
     "output_type": "execute_result"
    }
   ],
   "source": [
    "setup('2022-03-09 18:30', '2022-03-09 23:30',  30, 90, 20, 0.016, CALOR_ALTO, 'data/Simultaneous_SETI_TESS_targets_170621.csv', False)"
   ]
  }
 ],
 "metadata": {
  "interpreter": {
   "hash": "579282893146967bc5d17141c601e8a8b8ad4a0a2a5a6fe1c87b1000077400d7"
  },
  "kernelspec": {
   "display_name": "Python 3.8.5 64-bit ('anaconda': conda)",
   "language": "python",
   "name": "python3"
  },
  "language_info": {
   "codemirror_mode": {
    "name": "ipython",
    "version": 3
   },
   "file_extension": ".py",
   "mimetype": "text/x-python",
   "name": "python",
   "nbconvert_exporter": "python",
   "pygments_lexer": "ipython3",
   "version": "3.7.11"
  },
  "orig_nbformat": 4
 },
 "nbformat": 4,
 "nbformat_minor": 2
}
