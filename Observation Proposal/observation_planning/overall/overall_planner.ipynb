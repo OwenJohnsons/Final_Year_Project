{
 "cells": [
  {
   "cell_type": "code",
   "execution_count": 7,
   "metadata": {},
   "outputs": [],
   "source": [
    "from lofar_lst import *\n",
    "from lofar_planner import *\n",
    "import tkinter as tk\n",
    "\n",
    "os.chdir('E:\\Dropbox\\SETI\\Turbo-SETI_Enviroment\\Observation_Planning')"
   ]
  },
  {
   "cell_type": "code",
   "execution_count": 8,
   "metadata": {},
   "outputs": [
    {
     "name": "stdout",
     "output_type": "stream",
     "text": [
      "\n",
      " LST Window for UTC 09:00 to 13:00 on the 2021-08-24 is:\n",
      "\n",
      " I-LOFAR: 6:39-10:40\n",
      "LOFAR-SE: 7:59-11:59\n",
      "\n",
      " LST difference of ~80 minutes between stations\n"
     ]
    }
   ],
   "source": [
    "# --- Observation Window UTC --- \n",
    "\n",
    "start = '2021-08-24 09:00'; end = '2021-08-24 13:00'\n",
    "\n",
    "UTC_alpha = 1\n",
    "UTC_beta = 2\n",
    "\n",
    "station_timezone(end, UTC_alpha)\n",
    "\n",
    "LST_window(start, end)"
   ]
  },
  {
   "cell_type": "code",
   "execution_count": 3,
   "metadata": {},
   "outputs": [],
   "source": [
    "def dataframe_formatting(fraction_of_ot): \n",
    "\n",
    "    \"\"\"\n",
    "    Inputs: \n",
    "    fraction_of_ot - filters out the percentage of observing time for that falls under a given requirement e.g. 0.5 = 50%\n",
    "\n",
    "    Outputs: \n",
    "    A csv. with possible targets during the given observation window dictated by the parameters of the 'setup' function. \n",
    "\n",
    "    \"\"\"\n",
    "\n",
    "    combined_targets_dataframe = []\n",
    "    # --- Organising Dataframes --- \n",
    "    combined_targets_dataframe = pd.merge(Station_Alpha[0], Station_Beta[0], on = \"target name\") # -- merges on title column \n",
    "    combined_targets_dataframe = combined_targets_dataframe.rename(columns={\"ever observable_x\": \"Ever Observable(%s)\" % observatory_1.name, \"ever observable_y\": \"Ever Observable(%s)\" % observatory_2.name, \"always observable_x\" : \"Always Observable(%s)\" % observatory_1.name, \"always observable_y\" : \"Always Observable(%s)\" % observatory_2.name, \"fraction of time observable_x\":\"Fraction of observable time (%s)\" % observatory_1.name, \"fraction of time observable_y\":\"Fraction of observable time (%s)\" % observatory_2.name, \"target name\": \"Name\"}) # -- renaming cols. \n",
    "    combined_targets_dataframe = combined_targets_dataframe[combined_targets_dataframe['Ever Observable(%s)' % observatory_1.name] == True]; combined_targets_dataframe = combined_targets_dataframe[combined_targets_dataframe['Ever Observable(%s)' % observatory_2.name] == True] # -- removing targets that can't be observed during the window. \n",
    "    combined_targets_dataframe = combined_targets_dataframe[combined_targets_dataframe['Fraction of observable time (%s)' % observatory_1.name] > fraction_of_ot];  combined_targets_dataframe = combined_targets_dataframe[combined_targets_dataframe['Fraction of observable time (%s)' % observatory_2.name] > fraction_of_ot] \n",
    "    combined_targets_dataframe = pd.merge(combined_targets_dataframe, Station_Beta[3], on = \"Name\") # - merges on target name. \n",
    "    combined_targets_dataframe.sort_values(by = 'RA', ascending = True, inplace = True) # - sorting values by ascending right ascension. \n",
    "\n",
    "    combined_targets_dataframe = combined_targets_dataframe[['Name', 'RA', 'DEC', 'Ever Observable(%s)' % observatory_1.name, 'Always Observable(%s)' % observatory_1.name, 'Ever Observable(%s)' % observatory_2.name, 'Always Observable(%s)' % observatory_2.name, 'Fraction of observable time (%s)' % observatory_1.name , 'Fraction of observable time (%s)' % observatory_2.name]]\n",
    "\n",
    "    print('Number of possible targets:', len(combined_targets_dataframe))\n",
    "    # --- Saving .csv ---\n",
    "    combined_targets_dataframe.to_csv('data/target-lists/combined/Combined-Targets-%s.csv' % (Station_Alpha[2][2:8]), header = True, index  = False)\n",
    "\n",
    "    return(combined_targets_dataframe)"
   ]
  },
  {
   "cell_type": "code",
   "execution_count": 4,
   "metadata": {},
   "outputs": [
    {
     "name": "stdout",
     "output_type": "stream",
     "text": [
      "['2021-08-24 10:00:00.000' '2021-08-24 14:00:00.000']\n",
      "Number of objects that do not meet the criteria of both stations: 273\n",
      "Number of previously observed targets: 24\n",
      "Number of objects avalible for observation: 545\n",
      "['2021-08-24 11:00:00.000' '2021-08-24 15:00:00.000']\n",
      "Number of objects that do not meet the criteria of both stations: 273\n",
      "Number of previously observed targets: 24\n",
      "Number of objects avalible for observation: 545\n",
      "Number of possible targets: 265\n"
     ]
    }
   ],
   "source": [
    "# %%capture\n",
    "\n",
    "Station_Alpha = []\n",
    "Station_Beta = []\n",
    "\n",
    "observatory_1 = ILOFAR\n",
    "observatory_2 = ONSULA\n",
    "catalog = 'data/Simultaneous_SETI_TESS_targets_170621.csv'\n",
    "\n",
    "# --- Computing Dataframes --- \n",
    "Station_Alpha = setup(station_timezone(start, UTC_alpha), station_timezone(end, UTC_alpha), 30, 90, 20, 0.016, observatory_1, catalog, True)\n",
    "Station_Beta  = setup(station_timezone(start, UTC_beta), station_timezone(end, UTC_beta), 30, 90, 20,  0.016, observatory_2, catalog, False)\n",
    "\n",
    "test = dataframe_formatting(0.5)"
   ]
  },
  {
   "cell_type": "code",
   "execution_count": 5,
   "metadata": {},
   "outputs": [],
   "source": [
    "step = 3\n",
    "target_list = []\n",
    "\n",
    "for i in range(0, 12):\n",
    "    t = min(test['RA'], key=lambda x:abs(x - step))\n",
    "    target_list.append(test.loc[test['RA'] == t]['Name']) \n",
    "    test = test.drop(test.loc[test['RA'] == t].index)\n",
    "    step += 0.25\n"
   ]
  },
  {
   "cell_type": "code",
   "execution_count": 6,
   "metadata": {},
   "outputs": [
    {
     "data": {
      "text/plain": [
       "'TIC142090065'"
      ]
     },
     "execution_count": 6,
     "metadata": {},
     "output_type": "execute_result"
    }
   ],
   "source": [
    "test = 'TIC142090065.rawspec.0000'\n",
    "\n",
    "test.split('.')[0]"
   ]
  }
 ],
 "metadata": {
  "interpreter": {
   "hash": "9cc273a5df71486cc71a39a261bf6d82d026507ff1b51fa9f8def4a2173a39cc"
  },
  "kernelspec": {
   "display_name": "Python 3",
   "language": "python",
   "name": "python3"
  },
  "language_info": {
   "codemirror_mode": {
    "name": "ipython",
    "version": 3
   },
   "file_extension": ".py",
   "mimetype": "text/x-python",
   "name": "python",
   "nbconvert_exporter": "python",
   "pygments_lexer": "ipython3",
   "version": "3.8.5"
  }
 },
 "nbformat": 4,
 "nbformat_minor": 2
}
