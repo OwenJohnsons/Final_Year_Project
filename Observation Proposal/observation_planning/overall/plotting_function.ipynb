{
 "cells": [
  {
   "cell_type": "markdown",
   "metadata": {},
   "source": [
    "# Plots for Observation Plans at I-LOFAR and LOFAR-SE \n",
    "Code used to find suitable targets for observation at a given station. In this case it is used for I-LOFAR and LOFAR-SE stations to find suitable canidates for dual observations from the T.E.S.S exo-planet catalog. This script will work with any station or telescope with slight modification. "
   ]
  },
  {
   "cell_type": "markdown",
   "metadata": {},
   "source": [
    "### Parameter Setup "
   ]
  },
  {
   "cell_type": "code",
   "execution_count": 1,
   "metadata": {},
   "outputs": [],
   "source": [
    "# --- Preamble --- \n",
    "\n",
    "import numpy as np\n",
    "import pandas as pd\n",
    "import astropy\n",
    "import astropy.units as u\n",
    "import astropy.coordinates as coord\n",
    "from astropy.coordinates import SkyCoord, EarthLocation, AltAz, get_sun, get_moon #- for tranformations, takes ref. from simbad.\n",
    "from astropy.time import Time\n",
    "import datetime\n",
    "from datetime import time\n",
    "from astroplan import Observer\n",
    "from datetime import timedelta\n",
    "from pytz import timezone # timezone information \n",
    "import matplotlib.pyplot as plt\n",
    "\n",
    "\n",
    "#--- plot parameters --- \n",
    "plt.rcParams[\"figure.figsize\"] = (15,10)\n",
    "plt.rc('font', family = 'serif', serif = 'cmr10') \n",
    "plt.rcParams.update({'font.size': 22})\n",
    "plt.rcParams['axes.unicode_minus'] = False\n",
    "plt.rcParams['mathtext.fontset'] = 'stix'\n",
    "plt.rcParams['axes.labelsize'] = 30#\n",
    "\n",
    "params = {\"ytick.color\" : \"w\",\n",
    "          \"xtick.color\" : \"w\",\n",
    "          \"axes.edgecolor\" : \"w\"}\n",
    "plt.rcParams.update(params)\n",
    "\n",
    "# --- Colorblind Safe Pallete --- \n",
    "\n",
    "colorblind = ['#648fff',\n",
    "'#785ef0',\n",
    "'#dc267f',\n",
    "'#fe6100',\n",
    "'#ffb000'] \n",
    "\n"
   ]
  },
  {
   "cell_type": "code",
   "execution_count": 10,
   "metadata": {},
   "outputs": [],
   "source": [
    "# --- Station Parameter's --- \n",
    "\n",
    "ILOFAR = Observer(name = 'I-LOFAR',\n",
    "               location = EarthLocation(lat = 53.09472*u.deg, lon = -7.921667*u.deg, height = 46*u.m),\n",
    "               timezone = timezone('Europe/Dublin'),\n",
    "               description = \"I-LOFAR Station in Birr, Co. Offaly, Ireland\")\n",
    "\n",
    "ONSULA = Observer(name = 'LOFAR-SE',\n",
    "               location = EarthLocation(lat = 57.3930555556*u.deg, lon = 11.9177777778*u.deg, height = 20*u.m),\n",
    "               timezone = timezone('Europe/Stockholm'),\n",
    "               description = \"LOFAR-SE Station in Onsula, Sweden\")\n",
    "\n",
    "CALOR_ALTO = Observer(name = 'Calar Alto Observatory 1.5 m',\n",
    "                    location = EarthLocation(lat = 37.224972*u.deg, lon = 11.93029*u.deg, height = 2168*u.m),\n",
    "                    timezone = timezone('Europe/Stockholm'),\n",
    "                    description = \"CAO 1.5m optical telescope\")"
   ]
  },
  {
   "cell_type": "markdown",
   "metadata": {},
   "source": [
    "### Target Filtering \n",
    "\n",
    "At this part of the process the targets from a given list co-ordinates are calculated over an observation span and cross-referenced with both stations to ensure that dual observations can take place. "
   ]
  },
  {
   "cell_type": "code",
   "execution_count": 3,
   "metadata": {},
   "outputs": [
    {
     "name": "stdout",
     "output_type": "stream",
     "text": [
      "      Name      RA      DEC\n",
      "0  Kowal 2  58.775  10.1622\n",
      "Number of objects avalible for observation: 1\n"
     ]
    }
   ],
   "source": [
    "\n",
    "# --- Data Config --- \n",
    "\n",
    "data_main = pd.read_csv('data/Simultaneous_SETI_TESS_targets_170621.csv') # - loading data from .csv location and printing head\n",
    "\n",
    "# filtered_ILOFAR = data_main[data_main['DEC'] > -7] ; filtered_Onsula = data_main[data_main['DEC'] > -3] \n",
    "# common_targets = filtered_ILOFAR.merge(filtered_Onsula, how = 'inner' ,indicator=False)\n",
    "# common_targets = common_targets.sort_values(by = 'DEC', ascending = False)\n",
    "\n",
    "# print('Number of objects that do not meet the criteria of both stations:', len(data_main['Name']) - len(common_targets))\n",
    "print(data_main.head())\n",
    "print('Number of objects avalible for observation:',  len(data_main))"
   ]
  },
  {
   "cell_type": "markdown",
   "metadata": {},
   "source": [
    "# Definition of Plotting Functions"
   ]
  },
  {
   "cell_type": "code",
   "execution_count": 4,
   "metadata": {},
   "outputs": [],
   "source": [
    "def setup(timezone, specified_time, timespan, data_csv, observatory, granulation):\n",
    "    '''\n",
    "    timezone - Timezone in which observations will be taking place (i.e. Birr = 0)\n",
    "    specified_time - Desired time of observation. Format: year-month-day hour:min:sec\n",
    "    timespan - Integer input for the number span of hours wished to be observed\n",
    "    data_csv - location of .csv path containing RA and DEC values. \n",
    "    granulation - How many points to calculate along target transit path. \n",
    "    '''\n",
    "\n",
    "    # --- Time and Position config --- \n",
    "    \n",
    "    time = Time(specified_time) + timezone*u.hour # - adjusting for a given time zone\n",
    "    print('Observation time is', time)\n",
    "\n",
    "    timespan = np.linspace(0, timespan, granulation)*u.hour\n",
    "    TIMES = time + timespan \n",
    "    time_frame = AltAz(obstime = TIMES, location = observatory.location)\n",
    "\n",
    "    # - Sun and Moon Location \n",
    "    sun_altazs = get_sun(TIMES).transform_to(time_frame)\n",
    "    moon_altazs= get_moon(TIMES).transform_to(time_frame)\n",
    "\n",
    "    # --- Data Config --- \n",
    "\n",
    "    data_main = pd.read_csv(data_csv) # - loading data from .csv location and printing head\n",
    "\n",
    "    # - Filtering Targets \n",
    "\n",
    "    target_main = data_main[data_main['DEC'] > 0]# ; filtered_Onsula = data_main[data_main['DEC'] > -3] # - Filtering out unsuitable targets \n",
    "    # common_targets = filtered_ILOFAR.merge(filtered_Onsula, how = 'inner' ,indicator=False) # - Merging Common entries between both stations\n",
    "    # common_targets = common_targets.sort_values(by = 'DEC', ascending = False); common_targets.to_csv(index=False)\n",
    "\n",
    "    # print('Number of objects that do not meet the criteria of both stations:', len(data_main['Name']) - len(common_targets))\n",
    "    print(target_main.head())\n",
    "    print('Number of objects avalible for observation:',  len(target_main))\n",
    "\n",
    "    # - isolating of data for transformation \n",
    "    Name = target_main['Name']\n",
    "    RA = target_main['RA']\n",
    "    DEC = target_main['DEC']\n",
    "\n",
    "    coords = []\n",
    "\n",
    "    for i in range(0, len(Name)):\n",
    "        indv_coord = SkyCoord(RA[i], DEC[i], frame='icrs', unit='deg')\n",
    "        coords.append([Name[i], indv_coord])\n",
    "\n",
    "    return coords, time, timespan, sun_altazs, moon_altazs, data_main"
   ]
  },
  {
   "cell_type": "code",
   "execution_count": 5,
   "metadata": {},
   "outputs": [],
   "source": [
    "def plot_func(setup_data, target_name, observatory): \n",
    "    '''\n",
    "    setup_data - data array from previous function. \n",
    "    target - index in array of desired target. \n",
    "    observatory - parameters for desired observatory \n",
    "    '''\n",
    "    # --- Target Config --- \n",
    "\n",
    "    desired_target = data_main[data_main['Name'] == target_name]\n",
    "    target_pos = SkyCoord(desired_target['RA'], desired_target['DEC'], frame='icrs', unit='deg') \n",
    "\n",
    "    target_frame = AltAz(obstime = setup_data[1] + setup_data[2], location = observatory.location)\n",
    "    target_window = target_pos.transform_to(target_frame)\n",
    "    target_altazs = target_pos.transform_to(target_window)\n",
    "\n",
    "    # --- Sun, Moon and Target Plot --- \n",
    "\n",
    "    plt.plot(setup_data[2], setup_data[3].alt, color='r', label = 'Sun')\n",
    "    plt.plot(setup_data[2], setup_data[4].alt, color = [0.3]*3, ls='--', label = 'Moon')\n",
    "    plt.scatter(setup_data[2], target_altazs.alt, c = target_altazs.az, label = target_name, lw=0, s=8,  cmap='viridis')\n",
    "\n",
    "    plt.fill_between(setup_data[2], 0*u.deg, 90*u.deg, setup_data[3].alt < -0*u.deg, color =' 0.4', zorder = 0, alpha = 0.25) \n",
    "    plt.fill_between(setup_data[2], 0*u.deg, 90*u.deg, setup_data[3].alt < -18*u.deg, color='k', zorder = 0)\n",
    "\n",
    "    plt.colorbar().set_label('Azimuth [deg]')\n",
    "    # plt.legend(loc='upper left')\n",
    "    # plt.xticks((np.arange(13)*2-12))\n",
    "    plt.ylim(0, 90)\n",
    "    plt.xlabel('Time: %s' % setup_data[1])\n",
    "    plt.ylabel('Altitude [deg]')\n",
    "    plt.grid()\n",
    "    plt.axhline(y = 53)\n",
    "\n",
    "\n",
    "    # while True: \n",
    "    #     try: \n",
    "    #         ans = str(input(\"Do you want to save plot?  \"))\n",
    "    #         if ans == 'yes':\n",
    "    #             loc = str(input(\"What is the name folder do you want to save it in?\"))\n",
    "    #             plt.savefig(loc + '/%s.png' % target_name, bbox = 'tight')\n",
    "    #             break;\n",
    "    #         else: \n",
    "    #             print('No image saved.')\n",
    "    #             break;\n",
    "    #     except ValueError: \n",
    "    #         print('Invalid')\n",
    "    #         continue\n",
    "\n",
    "    plt.show()\n",
    "\n"
   ]
  },
  {
   "cell_type": "code",
   "execution_count": 6,
   "metadata": {},
   "outputs": [],
   "source": [
    "def plot_func_az(setup_data, target_name, observatory): \n",
    "    '''\n",
    "    setup_data - data array from previous function. \n",
    "    target - index in array of desired target. \n",
    "    observatory - parameters for desired observatory \n",
    "    '''\n",
    "    # --- Target Config --- \n",
    "\n",
    "    desired_target = data_main[data_main['Name'] == target_name]\n",
    "    target_pos = SkyCoord(desired_target['RA'], desired_target['DEC'], frame='icrs', unit='deg') \n",
    "\n",
    "    target_frame = AltAz(obstime = setup_data[1] + setup_data[2], location = observatory.location)\n",
    "    target_window = target_pos.transform_to(target_frame)\n",
    "    target_altazs = target_pos.transform_to(target_window)\n",
    "\n",
    "    # --- Sun, Moon and Target Plot --- \n",
    "\n",
    "    plt.plot(setup_data[2], setup_data[3].az, color='r', label = 'Sun')\n",
    "    plt.plot(setup_data[2], setup_data[4].az, color = [0.3]*3, ls='--', label = 'Moon')\n",
    "    plt.scatter(setup_data[2], target_altazs.az, c = target_altazs.alt, label = target_name, lw=0, s=8,  cmap='viridis')\n",
    "\n",
    "    plt.fill_between(setup_data[2], 0*u.deg, 90*u.deg, setup_data[3].alt < -0*u.deg, color =' 0.4', zorder = 0, alpha = 0.25) \n",
    "    plt.fill_between(setup_data[2], 0*u.deg, 90*u.deg, setup_data[3].alt < -18*u.deg, color='k', zorder = 0)\n",
    "\n",
    "    plt.colorbar().set_label('Altitude [deg]')\n",
    "    plt.legend(loc='upper left')\n",
    "    plt.xlabel('Time: %s' % setup_data[1])\n",
    "    plt.ylabel('Azimuth [deg]')\n",
    "    plt.grid()\n",
    "    plt.axhline(y = 53)\n",
    "\n",
    "    plt.show()"
   ]
  },
  {
   "cell_type": "code",
   "execution_count": 7,
   "metadata": {},
   "outputs": [],
   "source": [
    "def multi_plot_function(setup_data, target_name, observatory): \n",
    "    '''\n",
    "    setup_data - data array from previous function. \n",
    "    target - index in array of desired target. \n",
    "    observatory - parameters for desired observatory \n",
    "    '''\n",
    "    # --- Target Config --- \n",
    "\n",
    "    t = setup_data[1]\n",
    "    time_axis = setup_data[2]\n",
    "    data_main = setup_data[5]\n",
    "    \n",
    "\n",
    "    desired_target = data_main[data_main['Name'] == target_name]\n",
    "    target_pos = SkyCoord(desired_target['RA'], desired_target['DEC'], frame='icrs', unit='deg') \n",
    "\n",
    "    target_frame = AltAz(obstime = setup_data[1] + time_axis, location = observatory.location)\n",
    "    target_window = target_pos.transform_to(target_frame)\n",
    "    target_altazs = target_pos.transform_to(target_window)\n",
    "\n",
    "    fig, ax = plt.subplots(2, sharex='col', sharey='row')\n",
    "\n",
    "    # --- Alt-Plot --- \n",
    "\n",
    "    ax[0].plot(time_axis, setup_data[3].alt, color =  colorblind[3], label = 'Sun')\n",
    "    ax[0].plot(time_axis, setup_data[4].alt, color = [0.3]*3, ls='--', label = 'Moon')\n",
    "    ax[0].scatter(time_axis, target_altazs.alt, label = 'Target', lw=0, s=8, color = colorblind[2])\n",
    "\n",
    "    ax[0].fill_between(time_axis, 0*u.deg, 90*u.deg, setup_data[3].alt < -0*u.deg, color =' 0.4', zorder = 0, alpha = 0.25) \n",
    "    ax[0].fill_between(time_axis, 0*u.deg, 90*u.deg, setup_data[3].alt < -18*u.deg, color='k', zorder = 0)\n",
    "\n",
    "    ax[0].grid()\n",
    "    # ax[0].axhline(y = 53)\n",
    "    ax[0].set_ylim([0, 90])\n",
    "    \n",
    "\n",
    "    # --- Azimuth Plot --- \n",
    "\n",
    "    ax[1].plot(time_axis, setup_data[3].az, color=colorblind[3], label = 'Sun')\n",
    "    ax[1].plot(time_axis, setup_data[4].az, color = [0.3]*3, ls='--', label = 'Moon')\n",
    "    ax[1].scatter(time_axis, target_altazs.az, lw=0, s=8, color = colorblind[2], label = 'Target')\n",
    "\n",
    "    ax[1].fill_between(time_axis, 0*u.deg, 90*u.deg, setup_data[3].alt < -0*u.deg, color =' 0.4', zorder = 0, alpha = 0.25) \n",
    "    ax[1].fill_between(time_axis, 0*u.deg, 90*u.deg, setup_data[3].alt < -18*u.deg, color='k', zorder = 0)\n",
    "    ax[1].grid()\n",
    "    ax[1].set_title('')\n",
    "\n",
    "    # --- Labels --- \n",
    "\n",
    "    plt.setp(ax[1], ylabel='Azimuth [deg]')\n",
    "    plt.setp(ax[0], ylabel='Altitude [deg]')\n",
    "    ax[0].set_title('%s at %s' % (target_name, observatory.name), color = 'w')\n",
    "    \n",
    "    plt.legend()\n",
    "\n",
    "    # ax[1].plot_date(t.plot_date, target_altazs.az)\n",
    "    plt.savefig('images/targetplots/%s%s.png' % (target_name, observatory.name), bbox_inches='tight')\n",
    "    plt.gcf().autofmt_xdate()\n",
    "    plt.show()"
   ]
  },
  {
   "cell_type": "code",
   "execution_count": 8,
   "metadata": {},
   "outputs": [],
   "source": [
    "def dual_plot(target_name): \n",
    "    multi_plot_function(ILOFAR_setup, target_name, ILOFAR)\n",
    "    multi_plot_function(ONSULA_setup, target_name, ONSULA)"
   ]
  },
  {
   "cell_type": "markdown",
   "metadata": {},
   "source": [
    "# Setup Execution \n",
    "\n",
    "Here is wehre time and observation window for relevant stations are set. "
   ]
  },
  {
   "cell_type": "code",
   "execution_count": 14,
   "metadata": {
    "tags": []
   },
   "outputs": [
    {
     "name": "stdout",
     "output_type": "stream",
     "text": [
      "Observation time is 2022-03-09 18:30:00.000\n",
      "      Name      RA      DEC\n",
      "0  Kowal 2  58.775  10.1622\n",
      "Number of objects avalible for observation: 1\n",
      "Wall time: 979 ms\n"
     ]
    }
   ],
   "source": [
    "%%time\n",
    "# timezone, specified_time, timespan, data_csv, observatory, granulation\n",
    "# ILOFAR_setup = setup(0, '2021-6-30 07:30:00', 12, 'data/Simultaneous_SETI_TESS_targets_170621.csv', ILOFAR, 500)\n",
    "# ONSULA_setup = setup(0, '2021-6-30 07:30:00', 3, 'data/Simultaneous_SETI_TESS_targets_170621.csv', ONSULA, 500)\n",
    "CALOR_setup = setup(0, '2022-03-09 18:30', 5, 'data/Simultaneous_SETI_TESS_targets_170621.csv', CALOR_ALTO, 500)"
   ]
  },
  {
   "cell_type": "code",
   "execution_count": 21,
   "metadata": {},
   "outputs": [
    {
     "ename": "ValueError",
     "evalue": "operands could not be broadcast together with remapped shapes [original->remapped]: ()->() (0,3)->(0,newaxis) (0,3)->(0,newaxis) (500,3)->(500,newaxis) (500,)->(500,newaxis) ()->() and requested shape (3)",
     "output_type": "error",
     "traceback": [
      "\u001b[1;31m---------------------------------------------------------------------------\u001b[0m",
      "\u001b[1;31mValueError\u001b[0m                                Traceback (most recent call last)",
      "\u001b[1;32m<ipython-input-21-8584a5b1440a>\u001b[0m in \u001b[0;36m<module>\u001b[1;34m\u001b[0m\n\u001b[1;32m----> 1\u001b[1;33m \u001b[0mplot_func\u001b[0m\u001b[1;33m(\u001b[0m\u001b[0mCALOR_setup\u001b[0m\u001b[1;33m,\u001b[0m  \u001b[1;34m'Test'\u001b[0m\u001b[1;33m,\u001b[0m \u001b[0mCALOR_ALTO\u001b[0m\u001b[1;33m)\u001b[0m\u001b[1;33m\u001b[0m\u001b[1;33m\u001b[0m\u001b[0m\n\u001b[0m",
      "\u001b[1;32m<ipython-input-5-4115304f8b04>\u001b[0m in \u001b[0;36mplot_func\u001b[1;34m(setup_data, target_name, observatory)\u001b[0m\n\u001b[0;32m     11\u001b[0m \u001b[1;33m\u001b[0m\u001b[0m\n\u001b[0;32m     12\u001b[0m     \u001b[0mtarget_frame\u001b[0m \u001b[1;33m=\u001b[0m \u001b[0mAltAz\u001b[0m\u001b[1;33m(\u001b[0m\u001b[0mobstime\u001b[0m \u001b[1;33m=\u001b[0m \u001b[0msetup_data\u001b[0m\u001b[1;33m[\u001b[0m\u001b[1;36m1\u001b[0m\u001b[1;33m]\u001b[0m \u001b[1;33m+\u001b[0m \u001b[0msetup_data\u001b[0m\u001b[1;33m[\u001b[0m\u001b[1;36m2\u001b[0m\u001b[1;33m]\u001b[0m\u001b[1;33m,\u001b[0m \u001b[0mlocation\u001b[0m \u001b[1;33m=\u001b[0m \u001b[0mobservatory\u001b[0m\u001b[1;33m.\u001b[0m\u001b[0mlocation\u001b[0m\u001b[1;33m)\u001b[0m\u001b[1;33m\u001b[0m\u001b[1;33m\u001b[0m\u001b[0m\n\u001b[1;32m---> 13\u001b[1;33m     \u001b[0mtarget_window\u001b[0m \u001b[1;33m=\u001b[0m \u001b[0mtarget_pos\u001b[0m\u001b[1;33m.\u001b[0m\u001b[0mtransform_to\u001b[0m\u001b[1;33m(\u001b[0m\u001b[0mtarget_frame\u001b[0m\u001b[1;33m)\u001b[0m\u001b[1;33m\u001b[0m\u001b[1;33m\u001b[0m\u001b[0m\n\u001b[0m\u001b[0;32m     14\u001b[0m     \u001b[0mtarget_altazs\u001b[0m \u001b[1;33m=\u001b[0m \u001b[0mtarget_pos\u001b[0m\u001b[1;33m.\u001b[0m\u001b[0mtransform_to\u001b[0m\u001b[1;33m(\u001b[0m\u001b[0mtarget_window\u001b[0m\u001b[1;33m)\u001b[0m\u001b[1;33m\u001b[0m\u001b[1;33m\u001b[0m\u001b[0m\n\u001b[0;32m     15\u001b[0m \u001b[1;33m\u001b[0m\u001b[0m\n",
      "\u001b[1;32mD:\\conda\\lib\\site-packages\\astropy\\coordinates\\sky_coordinate.py\u001b[0m in \u001b[0;36mtransform_to\u001b[1;34m(self, frame, merge_attributes)\u001b[0m\n\u001b[0;32m    617\u001b[0m         \u001b[1;31m# Do the transformation, returning a coordinate frame of the desired\u001b[0m\u001b[1;33m\u001b[0m\u001b[1;33m\u001b[0m\u001b[1;33m\u001b[0m\u001b[0m\n\u001b[0;32m    618\u001b[0m         \u001b[1;31m# final type (not generic).\u001b[0m\u001b[1;33m\u001b[0m\u001b[1;33m\u001b[0m\u001b[1;33m\u001b[0m\u001b[0m\n\u001b[1;32m--> 619\u001b[1;33m         \u001b[0mnew_coord\u001b[0m \u001b[1;33m=\u001b[0m \u001b[0mtrans\u001b[0m\u001b[1;33m(\u001b[0m\u001b[0mself\u001b[0m\u001b[1;33m.\u001b[0m\u001b[0mframe\u001b[0m\u001b[1;33m,\u001b[0m \u001b[0mgeneric_frame\u001b[0m\u001b[1;33m)\u001b[0m\u001b[1;33m\u001b[0m\u001b[1;33m\u001b[0m\u001b[0m\n\u001b[0m\u001b[0;32m    620\u001b[0m \u001b[1;33m\u001b[0m\u001b[0m\n\u001b[0;32m    621\u001b[0m         \u001b[1;31m# Finally make the new SkyCoord object from the `new_coord` and\u001b[0m\u001b[1;33m\u001b[0m\u001b[1;33m\u001b[0m\u001b[1;33m\u001b[0m\u001b[0m\n",
      "\u001b[1;32mD:\\conda\\lib\\site-packages\\astropy\\coordinates\\transformations.py\u001b[0m in \u001b[0;36m__call__\u001b[1;34m(self, fromcoord, toframe)\u001b[0m\n\u001b[0;32m   1421\u001b[0m \u001b[1;33m\u001b[0m\u001b[0m\n\u001b[0;32m   1422\u001b[0m             \u001b[0mcurr_toframe\u001b[0m \u001b[1;33m=\u001b[0m \u001b[0mt\u001b[0m\u001b[1;33m.\u001b[0m\u001b[0mtosys\u001b[0m\u001b[1;33m(\u001b[0m\u001b[1;33m**\u001b[0m\u001b[0mfrattrs\u001b[0m\u001b[1;33m)\u001b[0m\u001b[1;33m\u001b[0m\u001b[1;33m\u001b[0m\u001b[0m\n\u001b[1;32m-> 1423\u001b[1;33m             \u001b[0mcurr_coord\u001b[0m \u001b[1;33m=\u001b[0m \u001b[0mt\u001b[0m\u001b[1;33m(\u001b[0m\u001b[0mcurr_coord\u001b[0m\u001b[1;33m,\u001b[0m \u001b[0mcurr_toframe\u001b[0m\u001b[1;33m)\u001b[0m\u001b[1;33m\u001b[0m\u001b[1;33m\u001b[0m\u001b[0m\n\u001b[0m\u001b[0;32m   1424\u001b[0m \u001b[1;33m\u001b[0m\u001b[0m\n\u001b[0;32m   1425\u001b[0m         \u001b[1;31m# this is safe even in the case where self.transforms is empty, because\u001b[0m\u001b[1;33m\u001b[0m\u001b[1;33m\u001b[0m\u001b[1;33m\u001b[0m\u001b[0m\n",
      "\u001b[1;32mD:\\conda\\lib\\site-packages\\astropy\\coordinates\\transformations.py\u001b[0m in \u001b[0;36m__call__\u001b[1;34m(self, fromcoord, toframe)\u001b[0m\n\u001b[0;32m   1024\u001b[0m             \u001b[1;32mreturn\u001b[0m \u001b[0mreprwithoutdiff\u001b[0m\u001b[1;33m.\u001b[0m\u001b[0mrealize_frame\u001b[0m\u001b[1;33m(\u001b[0m\u001b[0mreprwithdiff\u001b[0m\u001b[1;33m)\u001b[0m\u001b[1;33m\u001b[0m\u001b[1;33m\u001b[0m\u001b[0m\n\u001b[0;32m   1025\u001b[0m         \u001b[1;32melse\u001b[0m\u001b[1;33m:\u001b[0m\u001b[1;33m\u001b[0m\u001b[1;33m\u001b[0m\u001b[0m\n\u001b[1;32m-> 1026\u001b[1;33m             \u001b[1;32mreturn\u001b[0m \u001b[0msupcall\u001b[0m\u001b[1;33m(\u001b[0m\u001b[0mfromcoord\u001b[0m\u001b[1;33m,\u001b[0m \u001b[0mtoframe\u001b[0m\u001b[1;33m)\u001b[0m\u001b[1;33m\u001b[0m\u001b[1;33m\u001b[0m\u001b[0m\n\u001b[0m\u001b[0;32m   1027\u001b[0m \u001b[1;33m\u001b[0m\u001b[0m\n\u001b[0;32m   1028\u001b[0m \u001b[1;33m\u001b[0m\u001b[0m\n",
      "\u001b[1;32mD:\\conda\\lib\\site-packages\\astropy\\coordinates\\builtin_frames\\icrs_cirs_transforms.py\u001b[0m in \u001b[0;36micrs_to_cirs\u001b[1;34m(icrs_coo, cirs_frame)\u001b[0m\n\u001b[0;32m     40\u001b[0m         \u001b[1;31m# if no distance, just do the infinite-distance/no parallax calculation\u001b[0m\u001b[1;33m\u001b[0m\u001b[1;33m\u001b[0m\u001b[1;33m\u001b[0m\u001b[0m\n\u001b[0;32m     41\u001b[0m         \u001b[0msrepr\u001b[0m \u001b[1;33m=\u001b[0m \u001b[0micrs_coo\u001b[0m\u001b[1;33m.\u001b[0m\u001b[0mspherical\u001b[0m\u001b[1;33m\u001b[0m\u001b[1;33m\u001b[0m\u001b[0m\n\u001b[1;32m---> 42\u001b[1;33m         \u001b[0mcirs_ra\u001b[0m\u001b[1;33m,\u001b[0m \u001b[0mcirs_dec\u001b[0m \u001b[1;33m=\u001b[0m \u001b[0matciqz\u001b[0m\u001b[1;33m(\u001b[0m\u001b[0msrepr\u001b[0m\u001b[1;33m.\u001b[0m\u001b[0mwithout_differentials\u001b[0m\u001b[1;33m(\u001b[0m\u001b[1;33m)\u001b[0m\u001b[1;33m,\u001b[0m \u001b[0mastrom\u001b[0m\u001b[1;33m)\u001b[0m\u001b[1;33m\u001b[0m\u001b[1;33m\u001b[0m\u001b[0m\n\u001b[0m\u001b[0;32m     43\u001b[0m \u001b[1;33m\u001b[0m\u001b[0m\n\u001b[0;32m     44\u001b[0m         newrep = UnitSphericalRepresentation(lat=u.Quantity(cirs_dec, u.radian, copy=False),\n",
      "\u001b[1;32mD:\\conda\\lib\\site-packages\\astropy\\coordinates\\builtin_frames\\utils.py\u001b[0m in \u001b[0;36matciqz\u001b[1;34m(srepr, astrom)\u001b[0m\n\u001b[0;32m    316\u001b[0m \u001b[1;33m\u001b[0m\u001b[0m\n\u001b[0;32m    317\u001b[0m     \u001b[1;31m# Light deflection by the Sun, giving BCRS natural direction.\u001b[0m\u001b[1;33m\u001b[0m\u001b[1;33m\u001b[0m\u001b[1;33m\u001b[0m\u001b[0m\n\u001b[1;32m--> 318\u001b[1;33m     \u001b[0mpnat\u001b[0m \u001b[1;33m=\u001b[0m \u001b[0merfa\u001b[0m\u001b[1;33m.\u001b[0m\u001b[0mld\u001b[0m\u001b[1;33m(\u001b[0m\u001b[1;36m1.0\u001b[0m\u001b[1;33m,\u001b[0m \u001b[0mpco\u001b[0m\u001b[1;33m,\u001b[0m \u001b[0mq\u001b[0m\u001b[1;33m,\u001b[0m \u001b[0mastrom\u001b[0m\u001b[1;33m[\u001b[0m\u001b[1;34m'eh'\u001b[0m\u001b[1;33m]\u001b[0m\u001b[1;33m,\u001b[0m \u001b[0mastrom\u001b[0m\u001b[1;33m[\u001b[0m\u001b[1;34m'em'\u001b[0m\u001b[1;33m]\u001b[0m\u001b[1;33m,\u001b[0m \u001b[1;36m1e-6\u001b[0m\u001b[1;33m)\u001b[0m\u001b[1;33m\u001b[0m\u001b[1;33m\u001b[0m\u001b[0m\n\u001b[0m\u001b[0;32m    319\u001b[0m \u001b[1;33m\u001b[0m\u001b[0m\n\u001b[0;32m    320\u001b[0m     \u001b[1;31m# Aberration, giving GCRS proper direction.\u001b[0m\u001b[1;33m\u001b[0m\u001b[1;33m\u001b[0m\u001b[1;33m\u001b[0m\u001b[0m\n",
      "\u001b[1;32mD:\\conda\\lib\\site-packages\\erfa\\core.py\u001b[0m in \u001b[0;36mld\u001b[1;34m(bm, p, q, e, em, dlim)\u001b[0m\n\u001b[0;32m   4349\u001b[0m \u001b[1;33m\u001b[0m\u001b[0m\n\u001b[0;32m   4350\u001b[0m     \"\"\"\n\u001b[1;32m-> 4351\u001b[1;33m     \u001b[0mp1\u001b[0m \u001b[1;33m=\u001b[0m \u001b[0mufunc\u001b[0m\u001b[1;33m.\u001b[0m\u001b[0mld\u001b[0m\u001b[1;33m(\u001b[0m\u001b[0mbm\u001b[0m\u001b[1;33m,\u001b[0m \u001b[0mp\u001b[0m\u001b[1;33m,\u001b[0m \u001b[0mq\u001b[0m\u001b[1;33m,\u001b[0m \u001b[0me\u001b[0m\u001b[1;33m,\u001b[0m \u001b[0mem\u001b[0m\u001b[1;33m,\u001b[0m \u001b[0mdlim\u001b[0m\u001b[1;33m)\u001b[0m\u001b[1;33m\u001b[0m\u001b[1;33m\u001b[0m\u001b[0m\n\u001b[0m\u001b[0;32m   4352\u001b[0m     \u001b[1;32mreturn\u001b[0m \u001b[0mp1\u001b[0m\u001b[1;33m\u001b[0m\u001b[1;33m\u001b[0m\u001b[0m\n\u001b[0;32m   4353\u001b[0m \u001b[1;33m\u001b[0m\u001b[0m\n",
      "\u001b[1;31mValueError\u001b[0m: operands could not be broadcast together with remapped shapes [original->remapped]: ()->() (0,3)->(0,newaxis) (0,3)->(0,newaxis) (500,3)->(500,newaxis) (500,)->(500,newaxis) ()->() and requested shape (3)"
     ]
    }
   ],
   "source": [
    "plot_func(CALOR_setup,  'Test', CALOR_ALTO)"
   ]
  },
  {
   "cell_type": "markdown",
   "metadata": {},
   "source": [
    "## Loading .csv of marked targets with associated values.\n",
    "\n",
    "Plotting targets of intrest to confirm application for time frame, also writing a .txt file for observation. "
   ]
  },
  {
   "cell_type": "code",
   "execution_count": 15,
   "metadata": {},
   "outputs": [],
   "source": [
    "def time_string(hour, mins, secs, dur, sep, obs_N): \n",
    "    times = []\n",
    "\n",
    "    a_time = datetime.time(hour, mins, secs)\n",
    "    a_datetime = datetime.datetime.combine(datetime.date.today(), a_time)\n",
    "    times.append(a_time)\n",
    "\n",
    "    for i in range(0, obs_N - 1):\n",
    "        new_datetime = a_datetime + timedelta(seconds = dur*60 + sep*60)\n",
    "        new_time = new_datetime.time()\n",
    "        a_datetime = new_datetime\n",
    "        times.append(new_time)\n",
    "    return times"
   ]
  },
  {
   "cell_type": "code",
   "execution_count": 18,
   "metadata": {},
   "outputs": [],
   "source": [
    "filter_data_from_planner = pd.read_csv('data/target-lists/combined/Combined-Targets-210630.csv')\n",
    "\n",
    "#--- Targets of Intrest Index --- \n",
    "excel_index_start = 0\n",
    "excel_index_end = 0"
   ]
  },
  {
   "cell_type": "code",
   "execution_count": 19,
   "metadata": {},
   "outputs": [
    {
     "name": "stdout",
     "output_type": "stream",
     "text": [
      "  Name      time  RA  DEC freqrng  dur\n",
      "0  NaN  11:00:00 NaN  NaN     NaN  NaN\n"
     ]
    }
   ],
   "source": [
    "# --- Writing Target list to a text file --- \n",
    "\n",
    "observation_duration = '15m'\n",
    "frequency_range = '110e6:190e6'\n",
    "\n",
    "target_list = filter_data_from_planner[['Name', 'RA', 'DEC']].copy()\n",
    "target_list = target_list[excel_index_start - 2: excel_index_end - 2] # - indexing from target list .csv \n",
    "\n",
    "target_list['RA'] = target_list['RA']*15; target_list['freqrng'] = frequency_range ; target_list['dur'] = observation_duration; target_list['time'] = time_string(11, 00, 0, 15, 1, len(target_list))\n",
    "\n",
    "#- rarrange \n",
    "\n",
    "target_list = target_list[['Name', 'time', 'RA', 'DEC', 'freqrng', 'dur']]\n",
    "\n",
    "\n",
    "\n",
    "print(target_list)\n",
    "\n",
    "numpy_array = target_list.to_numpy()\n",
    "\n",
    "np.savetxt(\"test_file.txt\", numpy_array, fmt = \"%s\")"
   ]
  },
  {
   "cell_type": "code",
   "execution_count": 20,
   "metadata": {},
   "outputs": [
    {
     "ename": "AttributeError",
     "evalue": "'str' object has no attribute 'to_numpy'",
     "output_type": "error",
     "traceback": [
      "\u001b[1;31m---------------------------------------------------------------------------\u001b[0m",
      "\u001b[1;31mAttributeError\u001b[0m                            Traceback (most recent call last)",
      "\u001b[1;32m<ipython-input-20-a2e46d9ffe00>\u001b[0m in \u001b[0;36m<module>\u001b[1;34m\u001b[0m\n\u001b[1;32m----> 1\u001b[1;33m \u001b[0mnames\u001b[0m \u001b[1;33m=\u001b[0m \u001b[0mfilter_data_from_planner\u001b[0m\u001b[1;33m[\u001b[0m\u001b[1;34m'Name'\u001b[0m\u001b[1;33m]\u001b[0m\u001b[1;33m[\u001b[0m\u001b[1;36m0\u001b[0m\u001b[1;33m]\u001b[0m\u001b[1;33m.\u001b[0m\u001b[0mto_numpy\u001b[0m\u001b[1;33m(\u001b[0m\u001b[1;33m)\u001b[0m\u001b[1;33m\u001b[0m\u001b[1;33m\u001b[0m\u001b[0m\n\u001b[0m\u001b[0;32m      2\u001b[0m \u001b[1;33m\u001b[0m\u001b[0m\n\u001b[0;32m      3\u001b[0m \u001b[1;32mfor\u001b[0m \u001b[0mi\u001b[0m \u001b[1;32min\u001b[0m \u001b[0mrange\u001b[0m\u001b[1;33m(\u001b[0m\u001b[1;36m0\u001b[0m\u001b[1;33m,\u001b[0m \u001b[0mlen\u001b[0m\u001b[1;33m(\u001b[0m\u001b[0mnames\u001b[0m\u001b[1;33m)\u001b[0m\u001b[1;33m)\u001b[0m\u001b[1;33m:\u001b[0m\u001b[1;33m\u001b[0m\u001b[1;33m\u001b[0m\u001b[0m\n\u001b[0;32m      4\u001b[0m     \u001b[0mdual_plot\u001b[0m\u001b[1;33m(\u001b[0m\u001b[0mnames\u001b[0m\u001b[1;33m[\u001b[0m\u001b[0mi\u001b[0m\u001b[1;33m]\u001b[0m\u001b[1;33m)\u001b[0m\u001b[1;33m\u001b[0m\u001b[1;33m\u001b[0m\u001b[0m\n",
      "\u001b[1;31mAttributeError\u001b[0m: 'str' object has no attribute 'to_numpy'"
     ]
    }
   ],
   "source": [
    "names = filter_data_from_planner['Name'][0].to_numpy()\n",
    "\n",
    "for i in range(0, len(names)):\n",
    "    dual_plot(names[i])"
   ]
  },
  {
   "cell_type": "markdown",
   "metadata": {},
   "source": [
    "# Further Visuals \n",
    "\n",
    "Plotting onto a co-ordinate map at various times for further illustration of catalog. "
   ]
  },
  {
   "cell_type": "code",
   "execution_count": 17,
   "metadata": {},
   "outputs": [
    {
     "name": "stdout",
     "output_type": "stream",
     "text": [
      "           Name         RA        DEC\n",
      "0  TIC101929303  19.951591  35.988359\n",
      "1  TIC122220263  19.334730  36.637772\n",
      "2   TIC13419950  20.352623  41.462365\n",
      "3  TIC138361973  19.584332  37.538601\n",
      "4  TIC142276270  12.812327  64.855277\n"
     ]
    }
   ],
   "source": [
    "data_main = pd.read_csv('data/Simultaneous_SETI_TESS_targets_170621.csv') # - loading data from .csv location and printing head\n",
    "print(data_main.head())\n",
    "\n",
    "# - isolating of data for transformation \n",
    "Name = data_main['Name']\n",
    "RA = data_main['RA']\n",
    "DEC = data_main['DEC']"
   ]
  },
  {
   "cell_type": "code",
   "execution_count": 18,
   "metadata": {},
   "outputs": [
    {
     "data": {
      "image/png": "[encoded data removed]",
      "text/plain": [
       "<Figure size 1152x864 with 1 Axes>"
      ]
     },
     "metadata": {
      "needs_background": "dark"
     },
     "output_type": "display_data"
    }
   ],
   "source": [
    "fig = plt.figure(figsize=(16, 12))\n",
    "ax = fig.add_subplot(111, projection=\"mollweide\")\n",
    "ax.scatter(RA, DEC)\n",
    "ax.grid(True)"
   ]
  }
 ],
 "metadata": {
  "interpreter": {
   "hash": "9cc273a5df71486cc71a39a261bf6d82d026507ff1b51fa9f8def4a2173a39cc"
  },
  "kernelspec": {
   "display_name": "Python 3.8.5 64-bit ('base': conda)",
   "name": "python3"
  },
  "language_info": {
   "codemirror_mode": {
    "name": "ipython",
    "version": 3
   },
   "file_extension": ".py",
   "mimetype": "text/x-python",
   "name": "python",
   "nbconvert_exporter": "python",
   "pygments_lexer": "ipython3",
   "version": "3.8.5"
  }
 },
 "nbformat": 4,
 "nbformat_minor": 2
}
