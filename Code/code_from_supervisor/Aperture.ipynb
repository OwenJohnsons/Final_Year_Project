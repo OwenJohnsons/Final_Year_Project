{
 "cells": [
  {
   "cell_type": "markdown",
   "metadata": {},
   "source": [
    "# Calculating optimal aperture\n",
    "\n",
    "Choosing the wrong aperture when doing photometry can lead to misleading results and/or even to miss completely the variability/information you are looking for. Let's see what are the steps to find the optimal aperture for your data."
   ]
  },
  {
   "cell_type": "code",
   "execution_count": 1,
   "metadata": {},
   "outputs": [],
   "source": [
    "%matplotlib inline\n",
    "from astropy.stats import sigma_clipped_stats\n",
    "from photutils import CircularAperture, aperture_photometry, CircularAnnulus\n",
    "import astropy.io.fits as pf\n",
    "import numpy as np\n",
    "from matplotlib import pyplot as plt"
   ]
  },
  {
   "cell_type": "code",
   "execution_count": 2,
   "metadata": {},
   "outputs": [],
   "source": [
    "filename = 'rfinalMCT21_1803120162.fits'\n",
    "image = pf.getdata(filename)"
   ]
  },
  {
   "cell_type": "markdown",
   "metadata": {},
   "source": [
    "We now have to define the positions of our stars as: (x1, y1), (x2, y2)...\n",
    "Of course, if you just want to have one star, that is fine.\n",
    "You also have the option of defining positions using RA and Dec and then using astropy to convert them to x,y units (check the photutils tutorial for that or ask me if you need help)"
   ]
  },
  {
   "cell_type": "code",
   "execution_count": 98,
   "metadata": {},
   "outputs": [],
   "source": [
    "positions = [(625.34, 507.22), (367.93, 802.57)]"
   ]
  },
  {
   "cell_type": "markdown",
   "metadata": {},
   "source": [
    "Let's plot the profile of one of the stars!\n",
    "\n",
    "We need to remove the decimals and very important \"invert the axis\" so we actually have the profile of our star.\n",
    "One way to know if you are doing it right/wrong is that the 2-D star profile should be pretty much in the middle of the graph. If you see a profile skewed to one side or no star at all, then check your axis in the plot command.\n",
    "\n",
    "We will add a few pixels to the left/right of one of the axis to be able to see the full 2-D profile. Which axis you choose should not be too revelant. It just means you are cutting through the star in the x or y axis."
   ]
  },
  {
   "cell_type": "code",
   "execution_count": 103,
   "metadata": {},
   "outputs": [
    {
     "data": {
      "image/png": "[encoded data removed]",
      "text/plain": [
       "<Figure size 432x288 with 1 Axes>"
      ]
     },
     "metadata": {
      "needs_background": "light"
     },
     "output_type": "display_data"
    }
   ],
   "source": [
    "plt.plot(image[507, 625-10:625+10])\n",
    "plt.show()"
   ]
  },
  {
   "cell_type": "markdown",
   "metadata": {},
   "source": [
    "Note that saturated stars (like this one above) show a profile cut on the top. This shows that we have lost information for that star and we should not use it at all! --> you cannot measure properly its brightness or its full width half maximum.\n",
    "\n",
    "On the other hand, a non saturated star (like the second one, see profile below) shows a Gaussian-like curve (although not really Gaussian)\n",
    "\n",
    "Did you noticed that regardless of the brightness the width of the profile is quite similar? \n",
    "\n",
    "The saturated one looked bigger on the DS9 image, right? That's just because you were blowing out the star to see the image better. Within the same sky conditions, all stars would have a similar PSF or Point Spread Function. The main difference will be the hight of their profile (a.k.a. brightness of the star)"
   ]
  },
  {
   "cell_type": "code",
   "execution_count": 102,
   "metadata": {},
   "outputs": [
    {
     "data": {
      "image/png": "[encoded data removed]",
      "text/plain": [
       "<Figure size 432x288 with 1 Axes>"
      ]
     },
     "metadata": {
      "needs_background": "light"
     },
     "output_type": "display_data"
    }
   ],
   "source": [
    "plt.plot(image[803, 368-10:368+10])\n",
    "plt.axvline(x=7)\n",
    "plt.axvline(x=10.3)\n",
    "plt.show()"
   ]
  },
  {
   "cell_type": "markdown",
   "metadata": {},
   "source": [
    "#### What is the best aperture?\n",
    "\n",
    "Simple. The one that maximises the signal to noise of your star (the one you want to study).\n",
    "\n",
    "The best aperture tends to be quite close to the full with half maximum of the profile curve of stars (shown by the vertical lines in the previous profile).\n",
    "\n",
    "The signal lost on the tails of the star is not significant since it does not improves the signal to noise.\n",
    "\n",
    "##### Very important, once you find the right aperture for your target, all the other stars in your field must have the same aperture.\n",
    "\n",
    "This means that the reference stars should be at least as bright as your source so their signal to noise is not worse than that of your target --> this is very important in the case of differential photometry (more on this in the next tutorial)."
   ]
  },
  {
   "cell_type": "markdown",
   "metadata": {},
   "source": [
    "Ok! let's find out an optimal way to find out the right aperture for each image\n",
    "\n",
    "Since the seeing (FWHM x pixel scale) is constantly changing, we will need to calculate the right aperture for each image.\n",
    "\n",
    "### Calculating the signal to noise ratio\n",
    "\n",
    "\\begin{equation}\n",
    "SNR = \\dfrac{N^{net}_{star}}{\\sqrt{N^{net}_{star}+N_{sky}+N_{noise}}}\n",
    "\\end{equation}\n",
    "\n",
    "where $N^{net}_{star}$ is the net counts from your star (that is background subtrackted), $N_{sky}$ the number of background counts in the same area as the star and $N_{noise}$ the readout noise (normally given in the fits header and can be assumed 0 in most cases).\n",
    "\n",
    "###### Let's do the aperture photometry without optimisation\n",
    "\n",
    "We start by defining the type and size of our aperture. Let's do it circular.\n",
    "\n",
    "Note that I am using positions[1] so we do photometry only on the start not saturated.\n",
    "\n",
    "You could run this command with just positions and do photometry and both stars simulataneously"
   ]
  },
  {
   "cell_type": "code",
   "execution_count": 104,
   "metadata": {},
   "outputs": [],
   "source": [
    "aperture = CircularAperture(positions[1], r=3.)"
   ]
  },
  {
   "cell_type": "markdown",
   "metadata": {},
   "source": [
    "We then do aperture photometry and display the table with the results."
   ]
  },
  {
   "cell_type": "code",
   "execution_count": 105,
   "metadata": {},
   "outputs": [
    {
     "name": "stdout",
     "output_type": "stream",
     "text": [
      " id xcenter ycenter aperture_sum\n",
      "      pix     pix               \n",
      "--- ------- ------- ------------\n",
      "  1  367.93  802.57    238532.29\n"
     ]
    }
   ],
   "source": [
    "phot_table = aperture_photometry(image, aperture)\n",
    "phot_table['aperture_sum'].info.format = '%.8g'\n",
    "print(phot_table)"
   ]
  },
  {
   "cell_type": "markdown",
   "metadata": {},
   "source": [
    "But we have not takeng into account the background!\n",
    "\n",
    "Let's measure the background as an annulus around the star.\n",
    "\n",
    "As you can see we have defined a variable called \"apers\" that contains the apertures of the star and the background.\n",
    "\n",
    "Let's repeat the photometry process but this time including the background"
   ]
  },
  {
   "cell_type": "code",
   "execution_count": 106,
   "metadata": {},
   "outputs": [
    {
     "name": "stdout",
     "output_type": "stream",
     "text": [
      " id xcenter ycenter aperture_sum_0 aperture_sum_1\n",
      "      pix     pix                                \n",
      "--- ------- ------- -------------- --------------\n",
      "  1  367.93  802.57      238532.29      157211.39\n"
     ]
    }
   ],
   "source": [
    "annulus_aperture = CircularAnnulus(positions[1], r_in=12., r_out=15.)\n",
    "apers = [aperture, annulus_aperture]\n",
    "phot_table = aperture_photometry(image, apers)\n",
    "for col in phot_table.colnames:\n",
    "    phot_table[col].info.format = '%.8g'\n",
    "print(phot_table)"
   ]
  },
  {
   "cell_type": "markdown",
   "metadata": {},
   "source": [
    "The first aperture was the one for the source and thus on the table 'aperture_sum_0' corresponds to the star and 'aperture_sum_1' to the background\n",
    "\n",
    "Note that the background was measured using an aperture of different shape and size, so at the moment is meaningless.\n",
    "\n",
    "We will calculate the background per pixel (bkg_mean) and then the total background in an area equivalent to the star (bkg_total).\n",
    "\n",
    "Then we can measure the net counts for our star(s)"
   ]
  },
  {
   "cell_type": "code",
   "execution_count": 107,
   "metadata": {},
   "outputs": [
    {
     "name": "stdout",
     "output_type": "stream",
     "text": [
      "aperture_sum_0\n",
      "--------------\n",
      "     221064.36\n"
     ]
    }
   ],
   "source": [
    "bkg_mean = phot_table['aperture_sum_1'] / annulus_aperture.area\n",
    "bkg_total = bkg_mean * aperture.area\n",
    "net_star = phot_table['aperture_sum_0'] - bkg_total\n",
    "print(net_star)"
   ]
  },
  {
   "cell_type": "markdown",
   "metadata": {},
   "source": [
    "We have now all the elements to calculate the signal-to-noise ratio of our source."
   ]
  },
  {
   "cell_type": "code",
   "execution_count": 108,
   "metadata": {},
   "outputs": [
    {
     "name": "stdout",
     "output_type": "stream",
     "text": [
      "aperture_sum_0\n",
      "--------------\n",
      "     452.63188\n"
     ]
    }
   ],
   "source": [
    "snr = net_star / np.sqrt(net_star + bkg_total)\n",
    "print(snr)"
   ]
  },
  {
   "cell_type": "markdown",
   "metadata": {},
   "source": [
    "Is this the best SNR there is?\n",
    "\n",
    "Let's try a different aperture and see what happens with the SNR (this is a good moment to start thinking of creating a function with all these steps so you can do all this in essentailly one line)"
   ]
  },
  {
   "cell_type": "code",
   "execution_count": null,
   "metadata": {},
   "outputs": [],
   "source": []
  },
  {
   "cell_type": "markdown",
   "metadata": {},
   "source": [
    "### Let's work now on the optimisation\n",
    "\n",
    "In general, you can run multiple apertures at once"
   ]
  },
  {
   "cell_type": "code",
   "execution_count": 109,
   "metadata": {},
   "outputs": [
    {
     "name": "stdout",
     "output_type": "stream",
     "text": [
      " id xcenter ycenter ... aperture_sum_7 aperture_sum_8 aperture_sum_9\n",
      "      pix     pix   ...                                             \n",
      "--- ------- ------- ... -------------- -------------- --------------\n",
      "  1  367.93  802.57 ...      437841.64      472201.35      509777.68\n"
     ]
    }
   ],
   "source": [
    "radii = [1, 2, 3, 4, 5, 6, 7, 8, 9, 10]\n",
    "apertures = [CircularAperture(positions[1], r=r) for r in radii]\n",
    "phot_table = aperture_photometry(image, apertures)\n",
    "for col in phot_table.colnames:\n",
    "    phot_table[col].info.format = '%.8g'\n",
    "print(phot_table)"
   ]
  },
  {
   "cell_type": "markdown",
   "metadata": {},
   "source": [
    "For simplicity here, let's assume the background per pixel (bkg_mean) we calculated before is still valid since I used an annulus that was larger than the largest radius included in here\n",
    "\n",
    "Always calculate the background using an annulus that is bigger than your largest aperture\n",
    "\n",
    "We could have also created a similar parameter to \"apers\" where we would have all the apertures for the star and one extra one for the background.\n",
    "\n",
    "From the \"phot_table\", the first 3 columns are id, x and y. So we don't need them in the next step. If you would have done the background calculation in here as well, the last column of all would be the background and thus, in the for loop below you should have stopped before that column."
   ]
  },
  {
   "cell_type": "code",
   "execution_count": 110,
   "metadata": {},
   "outputs": [],
   "source": [
    "snr = np.array([])\n",
    "index = 0\n",
    "for col in phot_table.colnames[3:]:\n",
    "    bkg_total = bkg_mean * apertures[index].area\n",
    "    net_star = phot_table[col] - bkg_total\n",
    "    snr = np.append(snr, net_star / np.sqrt(net_star + bkg_total))\n",
    "    index += 1"
   ]
  },
  {
   "cell_type": "markdown",
   "metadata": {},
   "source": [
    "Let's plot now the evolution of the SNR vs aperture."
   ]
  },
  {
   "cell_type": "code",
   "execution_count": 111,
   "metadata": {},
   "outputs": [
    {
     "data": {
      "image/png": "[encoded data removed]",
      "text/plain": [
       "<Figure size 432x288 with 1 Axes>"
      ]
     },
     "metadata": {
      "needs_background": "light"
     },
     "output_type": "display_data"
    }
   ],
   "source": [
    "plt.plot(snr)\n",
    "plt.show()    "
   ]
  },
  {
   "cell_type": "markdown",
   "metadata": {},
   "source": [
    "Now, what you have to find is way of identifying where the curve peaks to select that as your best aperture. Sometimes the curve would show a clear maximum (like in this case) and sometimes it might flatten and does not really decay (or if it does, it happens very slowly).\n",
    "\n",
    "Thus, do not just trust finding the maximum. It won't work in all the cases (might work in most).\n",
    "\n",
    "In those cases without a clear peak, you would want to stop at the first aperture after which there is no much improvement if you select a larger one.\n",
    "\n",
    "You have to repeat this process for all the images (hence the usefulness of defining a function to include all the lines and simplify the for loop)\n",
    "\n",
    "#### Remember, you optimise the aperture for your main target in each image. The other stars within each image will have the same aperture as your main target."
   ]
  },
  {
   "cell_type": "code",
   "execution_count": null,
   "metadata": {},
   "outputs": [],
   "source": []
  }
 ],
 "metadata": {
  "kernelspec": {
   "display_name": "Python 3",
   "language": "python",
   "name": "python3"
  },
  "language_info": {
   "codemirror_mode": {
    "name": "ipython",
    "version": 3
   },
   "file_extension": ".py",
   "mimetype": "text/x-python",
   "name": "python",
   "nbconvert_exporter": "python",
   "pygments_lexer": "ipython3",
   "version": "3.7.4"
  }
 },
 "nbformat": 4,
 "nbformat_minor": 2
}
