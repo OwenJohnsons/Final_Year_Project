{
 "cells": [
  {
   "cell_type": "markdown",
   "metadata": {},
   "source": [
    "# Classification \n",
    "\n",
    "This notebook is for use classifying each of the observed clusters according to the Trumplar system. This is done using three parameters. a) Range of Brightness b) Degree of Concertration c) Cluster Population. Firstly loading required packages and processed data.\n"
   ]
  },
  {
   "cell_type": "code",
   "execution_count": 27,
   "metadata": {},
   "outputs": [],
   "source": [
    "import numpy as np \n",
    "import pandas as pd \n",
    "import os \n",
    "import glob\n",
    "import matplotlib.pyplot as plt\n",
    "\n",
    "from astropy import wcs\n",
    "from astropy.stats import mad_std\n",
    "from photutils import DAOStarFinder\n",
    "from astropy.io import fits\n",
    "from photutils import *"
   ]
  },
  {
   "cell_type": "markdown",
   "metadata": {},
   "source": [
    "Loading astrometric images and photometry parameters. "
   ]
  },
  {
   "cell_type": "code",
   "execution_count": 28,
   "metadata": {},
   "outputs": [
    {
     "name": "stdout",
     "output_type": "stream",
     "text": [
      "['astrometric_obs_data/Bochum2_B_wcs.fits', 'astrometric_obs_data/Bochum2_V_wcs.fits', 'astrometric_obs_data/NGC2324_B_wcs.fits', 'astrometric_obs_data/NGC2324_V_wcs.fits', 'astrometric_obs_data/NGC2355_B_wcs.fits', 'astrometric_obs_data/NGC2355_V_wcs.fits', 'astrometric_obs_data/berkeley28_B_wcs.fits', 'astrometric_obs_data/berkeley28_V_wcs.fits']\n"
     ]
    }
   ],
   "source": [
    "file_list = sorted(glob.glob('astrometric_obs_data/*.fits'))\n",
    "print(file_list)"
   ]
  },
  {
   "cell_type": "code",
   "execution_count": 87,
   "metadata": {},
   "outputs": [
    {
     "data": {
      "text/html": [
       "<div>\n",
       "<style scoped>\n",
       "    .dataframe tbody tr th:only-of-type {\n",
       "        vertical-align: middle;\n",
       "    }\n",
       "\n",
       "    .dataframe tbody tr th {\n",
       "        vertical-align: top;\n",
       "    }\n",
       "\n",
       "    .dataframe thead th {\n",
       "        text-align: right;\n",
       "    }\n",
       "</style>\n",
       "<table border=\"1\" class=\"dataframe\">\n",
       "  <thead>\n",
       "    <tr style=\"text-align: right;\">\n",
       "      <th></th>\n",
       "      <th>target</th>\n",
       "      <th>slope</th>\n",
       "      <th>constant</th>\n",
       "      <th>slope_err</th>\n",
       "      <th>constant_err</th>\n",
       "    </tr>\n",
       "  </thead>\n",
       "  <tbody>\n",
       "    <tr>\n",
       "      <th>0</th>\n",
       "      <td>berkeley28_B</td>\n",
       "      <td>0.971244</td>\n",
       "      <td>23.975025</td>\n",
       "      <td>0.021307</td>\n",
       "      <td>0.177514</td>\n",
       "    </tr>\n",
       "    <tr>\n",
       "      <th>1</th>\n",
       "      <td>berkeley28_V</td>\n",
       "      <td>1.001256</td>\n",
       "      <td>24.526199</td>\n",
       "      <td>0.005840</td>\n",
       "      <td>0.057108</td>\n",
       "    </tr>\n",
       "    <tr>\n",
       "      <th>2</th>\n",
       "      <td>Bochum2_B</td>\n",
       "      <td>1.020409</td>\n",
       "      <td>24.677540</td>\n",
       "      <td>0.010366</td>\n",
       "      <td>0.095138</td>\n",
       "    </tr>\n",
       "    <tr>\n",
       "      <th>3</th>\n",
       "      <td>Bochum2_V</td>\n",
       "      <td>1.045326</td>\n",
       "      <td>25.174370</td>\n",
       "      <td>0.015138</td>\n",
       "      <td>0.158771</td>\n",
       "    </tr>\n",
       "    <tr>\n",
       "      <th>4</th>\n",
       "      <td>NGC2324_B</td>\n",
       "      <td>0.987966</td>\n",
       "      <td>24.082465</td>\n",
       "      <td>0.014919</td>\n",
       "      <td>0.140935</td>\n",
       "    </tr>\n",
       "  </tbody>\n",
       "</table>\n",
       "</div>"
      ],
      "text/plain": [
       "         target     slope   constant  slope_err  constant_err\n",
       "0  berkeley28_B  0.971244  23.975025   0.021307      0.177514\n",
       "1  berkeley28_V  1.001256  24.526199   0.005840      0.057108\n",
       "2     Bochum2_B  1.020409  24.677540   0.010366      0.095138\n",
       "3     Bochum2_V  1.045326  25.174370   0.015138      0.158771\n",
       "4     NGC2324_B  0.987966  24.082465   0.014919      0.140935"
      ]
     },
     "execution_count": 87,
     "metadata": {},
     "output_type": "execute_result"
    }
   ],
   "source": [
    "photo_params = pd.read_csv('calibration_parameters/photo_params.csv') # - loading photometry parameters previously calculated. \n",
    "photo_params.head()"
   ]
  },
  {
   "cell_type": "code",
   "execution_count": 88,
   "metadata": {},
   "outputs": [
    {
     "data": {
      "text/html": [
       "<div>\n",
       "<style scoped>\n",
       "    .dataframe tbody tr th:only-of-type {\n",
       "        vertical-align: middle;\n",
       "    }\n",
       "\n",
       "    .dataframe tbody tr th {\n",
       "        vertical-align: top;\n",
       "    }\n",
       "\n",
       "    .dataframe thead th {\n",
       "        text-align: right;\n",
       "    }\n",
       "</style>\n",
       "<table border=\"1\" class=\"dataframe\">\n",
       "  <thead>\n",
       "    <tr style=\"text-align: right;\">\n",
       "      <th></th>\n",
       "      <th>target</th>\n",
       "      <th>slope</th>\n",
       "      <th>constant</th>\n",
       "      <th>slope_err</th>\n",
       "      <th>constant_err</th>\n",
       "    </tr>\n",
       "  </thead>\n",
       "  <tbody>\n",
       "    <tr>\n",
       "      <th>0</th>\n",
       "      <td>berkeley28_B</td>\n",
       "      <td>0.971244</td>\n",
       "      <td>23.975025</td>\n",
       "      <td>0.021307</td>\n",
       "      <td>0.177514</td>\n",
       "    </tr>\n",
       "    <tr>\n",
       "      <th>1</th>\n",
       "      <td>berkeley28_V</td>\n",
       "      <td>1.001256</td>\n",
       "      <td>24.526199</td>\n",
       "      <td>0.005840</td>\n",
       "      <td>0.057108</td>\n",
       "    </tr>\n",
       "    <tr>\n",
       "      <th>2</th>\n",
       "      <td>Bochum2_B</td>\n",
       "      <td>1.020409</td>\n",
       "      <td>24.677540</td>\n",
       "      <td>0.010366</td>\n",
       "      <td>0.095138</td>\n",
       "    </tr>\n",
       "    <tr>\n",
       "      <th>3</th>\n",
       "      <td>Bochum2_V</td>\n",
       "      <td>1.045326</td>\n",
       "      <td>25.174370</td>\n",
       "      <td>0.015138</td>\n",
       "      <td>0.158771</td>\n",
       "    </tr>\n",
       "    <tr>\n",
       "      <th>4</th>\n",
       "      <td>NGC2324_B</td>\n",
       "      <td>0.987966</td>\n",
       "      <td>24.082465</td>\n",
       "      <td>0.014919</td>\n",
       "      <td>0.140935</td>\n",
       "    </tr>\n",
       "  </tbody>\n",
       "</table>\n",
       "</div>"
      ],
      "text/plain": [
       "         target     slope   constant  slope_err  constant_err\n",
       "0  berkeley28_B  0.971244  23.975025   0.021307      0.177514\n",
       "1  berkeley28_V  1.001256  24.526199   0.005840      0.057108\n",
       "2     Bochum2_B  1.020409  24.677540   0.010366      0.095138\n",
       "3     Bochum2_V  1.045326  25.174370   0.015138      0.158771\n",
       "4     NGC2324_B  0.987966  24.082465   0.014919      0.140935"
      ]
     },
     "execution_count": 88,
     "metadata": {},
     "output_type": "execute_result"
    }
   ],
   "source": [
    "mag_params = pd.read_csv('calibration_parameters/magnitude_processing/magnitude_cal.csv')\n",
    "mag_params.head()"
   ]
  },
  {
   "cell_type": "markdown",
   "metadata": {},
   "source": [
    "Loading previously defined star finder."
   ]
  },
  {
   "cell_type": "code",
   "execution_count": 30,
   "metadata": {},
   "outputs": [],
   "source": [
    "def starfinder(data, fwhm):\n",
    "    mst_std = mad_std(data)\n",
    "    daofind = DAOStarFinder(fwhm = fwhm, threshold = 5*mst_std)\n",
    "    mst_sources = daofind(data)\n",
    "\n",
    "    for col in mst_sources.colnames: \n",
    "        mst_sources[col].info.format = '%.8g'\n",
    "\n",
    "    return mst_sources"
   ]
  },
  {
   "cell_type": "markdown",
   "metadata": {},
   "source": [
    "Also using previous method of wcs co-ordinates to find simlarities in detection. However, this section of script is edited to calcualte the distance of a detected star from the clusters known center and assign a specific weighting to it. This weighting is then used to determine where the star can be classed as part of the stellar population of the cluster itself. "
   ]
  },
  {
   "cell_type": "code",
   "execution_count": 31,
   "metadata": {},
   "outputs": [],
   "source": [
    "def common_sources(filename_V, filename_B, v_sources_raw, b_sources_raw):\n",
    "    vhdulist = fits.open(filename_V)\n",
    "    v_wcs = wcs.WCS(vhdulist[0].header)\n",
    "    x_cordv = v_sources_raw['xcentroid']; y_cordv = v_sources_raw['ycentroid']\n",
    "    v_cord = v_wcs.pixel_to_world(x_cordv, y_cordv)\n",
    "\n",
    "    bhdulist = fits.open(filename_B)\n",
    "    x_cordb = b_sources_raw['xcentroid']; y_cordb = b_sources_raw['ycentroid']\n",
    "    b_wcs = wcs.WCS(bhdulist[0].header)\n",
    "    b_cord = b_wcs.pixel_to_world(x_cordb, y_cordb)\n",
    "    vcoord_index = []; bcoord_index = []\n",
    "\n",
    "    v_idx = 0\n",
    "    for cord in v_cord: \n",
    "        sep2tar = cord.separation(b_cord).degree\n",
    "        if sep2tar.min() < 1.73e-3: \n",
    "            vcoord_index.append(v_idx)\n",
    "            bcoord_index.append(np.argmin(sep2tar))\n",
    "        v_idx += 1 \n",
    "\n",
    "    v_sources = v_sources_raw[vcoord_index]; b_sources = b_sources_raw[bcoord_index]\n",
    "\n",
    "    if len(v_sources) != len(b_sources):\n",
    "        print('HALT!') \n",
    "    else: \n",
    "        print('Common Targets:', len(v_sources))\n",
    "\n",
    "    return v_sources, b_sources"
   ]
  },
  {
   "cell_type": "markdown",
   "metadata": {},
   "source": [
    "Re-incorporating the script for photometry and doing the signal to noise calculation as per data analysis review. \n",
    "\n",
    "\\begin{equation}\n",
    "SNR = \\dfrac{N^{net}_{star}}{\\sqrt{N^{net}_{star}+N_{sky}+N_{noise}}}\n",
    "\\end{equation}"
   ]
  },
  {
   "cell_type": "code",
   "execution_count": 59,
   "metadata": {},
   "outputs": [],
   "source": [
    "def aper_photometry(data, sources, aper, bkg_counts):\n",
    "    positions = np.transpose((sources['xcentroid'], sources['ycentroid']))\n",
    "    \n",
    "    # Aperture  \n",
    "    aperture = CircularAperture(positions, r=aper)\n",
    "    phot_table = aperture_photometry(data  - bkg_counts, aperture)\n",
    "\n",
    "    snr = np.array([])\n",
    "    index = 0\n",
    "    for col in phot_table.colnames[3:]:\n",
    "        bkg_total = bkg_counts\n",
    "        net_star = phot_table[col] - bkg_total\n",
    "        snr = np.append(snr, net_star / np.sqrt(net_star + bkg_total))\n",
    "        index += 1\n",
    "\n",
    "    # # Now we get the final table of background subtracted counts for each star\n",
    "    final_sum = phot_table['aperture_sum']\n",
    "\n",
    "    return -2.5*np.log10(final_sum), snr"
   ]
  },
  {
   "cell_type": "markdown",
   "metadata": {},
   "source": [
    "combing all the above steps in a unification function returns, "
   ]
  },
  {
   "cell_type": "code",
   "execution_count": 60,
   "metadata": {},
   "outputs": [],
   "source": [
    "def unifi_steps(filename_V, filename_B, table_index):\n",
    "\n",
    "    data_B = fits.getdata(filename_B); data_V = fits.getdata(filename_V)\n",
    "    fwhm_B = photo_params['FWHM_B'][table_index]; fwhm_V = photo_params['FWHM_V'][table_index]\n",
    "    aper_B = photo_params['Aper_B'][table_index]; aper_V = photo_params['Aper_V'][table_index]\n",
    "    bkg_B = photo_params['bkg_B'][table_index]; bkg_V = photo_params['bkg_V'][table_index]\n",
    "\n",
    "    raw_B_sources = starfinder(data_B, fwhm_B) # returns list of sources from DAO. \n",
    "    raw_V_sources = starfinder(data_V, fwhm_V)\n",
    "\n",
    "    fil_V_sources, fil_B_sources = common_sources(filename_V, filename_B, raw_V_sources, raw_B_sources) # returns common sources between both B & V filters. \n",
    "\n",
    "    mag_V, snr_V = aper_photometry(data_V, fil_V_sources, aper_V, bkg_V)\n",
    "    mag_B, snr_B = aper_photometry(data_B, fil_B_sources, aper_B, bkg_B)\n",
    "\n",
    "    return mag_V, mag_B, snr_B, snr_V"
   ]
  },
  {
   "cell_type": "code",
   "execution_count": 34,
   "metadata": {},
   "outputs": [
    {
     "data": {
      "text/html": [
       "<div>\n",
       "<style scoped>\n",
       "    .dataframe tbody tr th:only-of-type {\n",
       "        vertical-align: middle;\n",
       "    }\n",
       "\n",
       "    .dataframe tbody tr th {\n",
       "        vertical-align: top;\n",
       "    }\n",
       "\n",
       "    .dataframe thead th {\n",
       "        text-align: right;\n",
       "    }\n",
       "</style>\n",
       "<table border=\"1\" class=\"dataframe\">\n",
       "  <thead>\n",
       "    <tr style=\"text-align: right;\">\n",
       "      <th></th>\n",
       "      <th>Name</th>\n",
       "      <th>FWHM_V</th>\n",
       "      <th>FWHM_B</th>\n",
       "      <th>Aper_V</th>\n",
       "      <th>Aper_B</th>\n",
       "      <th>bkg_V</th>\n",
       "      <th>bkg_B</th>\n",
       "    </tr>\n",
       "  </thead>\n",
       "  <tbody>\n",
       "    <tr>\n",
       "      <th>0</th>\n",
       "      <td>Bochum 2</td>\n",
       "      <td>3.9</td>\n",
       "      <td>3.5</td>\n",
       "      <td>4.918034</td>\n",
       "      <td>2.599187</td>\n",
       "      <td>781.186107</td>\n",
       "      <td>778.034053</td>\n",
       "    </tr>\n",
       "    <tr>\n",
       "      <th>1</th>\n",
       "      <td>NGC2324</td>\n",
       "      <td>4.2</td>\n",
       "      <td>4.1</td>\n",
       "      <td>5.111358</td>\n",
       "      <td>3.183833</td>\n",
       "      <td>791.719962</td>\n",
       "      <td>791.116424</td>\n",
       "    </tr>\n",
       "    <tr>\n",
       "      <th>2</th>\n",
       "      <td>berkeley28</td>\n",
       "      <td>3.6</td>\n",
       "      <td>4.2</td>\n",
       "      <td>4.294812</td>\n",
       "      <td>2.251437</td>\n",
       "      <td>791.000000</td>\n",
       "      <td>783.000000</td>\n",
       "    </tr>\n",
       "    <tr>\n",
       "      <th>3</th>\n",
       "      <td>NGC2355</td>\n",
       "      <td>4.5</td>\n",
       "      <td>4.4</td>\n",
       "      <td>4.893446</td>\n",
       "      <td>3.350120</td>\n",
       "      <td>782.000000</td>\n",
       "      <td>852.000000</td>\n",
       "    </tr>\n",
       "  </tbody>\n",
       "</table>\n",
       "</div>"
      ],
      "text/plain": [
       "        Name   FWHM_V  FWHM_B    Aper_V    Aper_B       bkg_V       bkg_B\n",
       "0    Bochum 2     3.9     3.5  4.918034  2.599187  781.186107  778.034053\n",
       "1     NGC2324     4.2     4.1  5.111358  3.183833  791.719962  791.116424\n",
       "2  berkeley28     3.6     4.2  4.294812  2.251437  791.000000  783.000000\n",
       "3     NGC2355     4.5     4.4  4.893446  3.350120  782.000000  852.000000"
      ]
     },
     "execution_count": 34,
     "metadata": {},
     "output_type": "execute_result"
    }
   ],
   "source": [
    "photo_params.head()"
   ]
  },
  {
   "cell_type": "code",
   "execution_count": 72,
   "metadata": {},
   "outputs": [
    {
     "name": "stdout",
     "output_type": "stream",
     "text": [
      "Common Targets: 185\n",
      "    aperture_sum   \n",
      "-------------------\n",
      "-7.5769139581200005\n",
      " -7.518085317070172\n",
      "-10.836111678339734\n",
      " -8.317565669794527\n",
      " -11.44067493084969\n",
      "  -8.38869396128614\n",
      " -8.194965610354835\n",
      " -7.768616526596196\n",
      " -8.434384811587375\n",
      " -10.40823393934052\n",
      "                ...\n",
      " -8.507503779847292\n",
      " -7.619946341555482\n",
      "  -7.22555843003878\n",
      "  -8.46468762359373\n",
      "  -8.25298169480973\n",
      "  -7.26249182361769\n",
      "  -9.36419728364876\n",
      " -9.353019155113323\n",
      " -9.902817859656256\n",
      "-6.9153108644614765\n",
      " -6.326260392872054\n",
      "Length = 185 rows\n"
     ]
    },
    {
     "name": "stderr",
     "output_type": "stream",
     "text": [
      "/Library/anaconda3/lib/python3.7/site-packages/ipykernel_launcher.py:13: RuntimeWarning: invalid value encountered in sqrt\n",
      "  del sys.path[0]\n",
      "/Library/anaconda3/lib/python3.7/site-packages/ipykernel_launcher.py:19: RuntimeWarning: invalid value encountered in log10\n"
     ]
    }
   ],
   "source": [
    "mag_V, mag_B, snr_B, snr_V = unifi_steps('astrometric_obs_data/berkeley28_V_wcs.fits', 'astrometric_obs_data/berkeley28_B_wcs.fits', 2)"
   ]
  },
  {
   "cell_type": "code",
   "execution_count": 90,
   "metadata": {},
   "outputs": [
    {
     "data": {
      "text/html": [
       "<div>\n",
       "<style scoped>\n",
       "    .dataframe tbody tr th:only-of-type {\n",
       "        vertical-align: middle;\n",
       "    }\n",
       "\n",
       "    .dataframe tbody tr th {\n",
       "        vertical-align: top;\n",
       "    }\n",
       "\n",
       "    .dataframe thead th {\n",
       "        text-align: right;\n",
       "    }\n",
       "</style>\n",
       "<table border=\"1\" class=\"dataframe\">\n",
       "  <thead>\n",
       "    <tr style=\"text-align: right;\">\n",
       "      <th></th>\n",
       "      <th>target</th>\n",
       "      <th>slope</th>\n",
       "      <th>constant</th>\n",
       "      <th>slope_err</th>\n",
       "      <th>constant_err</th>\n",
       "    </tr>\n",
       "  </thead>\n",
       "  <tbody>\n",
       "    <tr>\n",
       "      <th>0</th>\n",
       "      <td>berkeley28_B</td>\n",
       "      <td>0.971244</td>\n",
       "      <td>23.975025</td>\n",
       "      <td>0.021307</td>\n",
       "      <td>0.177514</td>\n",
       "    </tr>\n",
       "    <tr>\n",
       "      <th>1</th>\n",
       "      <td>berkeley28_V</td>\n",
       "      <td>1.001256</td>\n",
       "      <td>24.526199</td>\n",
       "      <td>0.005840</td>\n",
       "      <td>0.057108</td>\n",
       "    </tr>\n",
       "    <tr>\n",
       "      <th>2</th>\n",
       "      <td>Bochum2_B</td>\n",
       "      <td>1.020409</td>\n",
       "      <td>24.677540</td>\n",
       "      <td>0.010366</td>\n",
       "      <td>0.095138</td>\n",
       "    </tr>\n",
       "    <tr>\n",
       "      <th>3</th>\n",
       "      <td>Bochum2_V</td>\n",
       "      <td>1.045326</td>\n",
       "      <td>25.174370</td>\n",
       "      <td>0.015138</td>\n",
       "      <td>0.158771</td>\n",
       "    </tr>\n",
       "    <tr>\n",
       "      <th>4</th>\n",
       "      <td>NGC2324_B</td>\n",
       "      <td>0.987966</td>\n",
       "      <td>24.082465</td>\n",
       "      <td>0.014919</td>\n",
       "      <td>0.140935</td>\n",
       "    </tr>\n",
       "  </tbody>\n",
       "</table>\n",
       "</div>"
      ],
      "text/plain": [
       "         target     slope   constant  slope_err  constant_err\n",
       "0  berkeley28_B  0.971244  23.975025   0.021307      0.177514\n",
       "1  berkeley28_V  1.001256  24.526199   0.005840      0.057108\n",
       "2     Bochum2_B  1.020409  24.677540   0.010366      0.095138\n",
       "3     Bochum2_V  1.045326  25.174370   0.015138      0.158771\n",
       "4     NGC2324_B  0.987966  24.082465   0.014919      0.140935"
      ]
     },
     "execution_count": 90,
     "metadata": {},
     "output_type": "execute_result"
    }
   ],
   "source": [
    "def lin_func(x, m, c):\n",
    "    return m*x + c \n",
    "\n",
    "mag_params.head()"
   ]
  },
  {
   "cell_type": "code",
   "execution_count": 95,
   "metadata": {},
   "outputs": [
    {
     "data": {
      "image/png": "[encoded data removed]",
      "text/plain": [
       "<Figure size 576x576 with 3 Axes>"
      ]
     },
     "metadata": {
      "needs_background": "light"
     },
     "output_type": "display_data"
    }
   ],
   "source": [
    "import numpy as np\n",
    "import matplotlib.pyplot as plt\n",
    "from matplotlib.ticker import NullFormatter\n",
    "plt.rcParams['font.size'] = '16'\n",
    "\n",
    "mag_Bc = lin_func(mag_B, mag_params['slope'][0], mag_params['constant'][0])\n",
    "mag_Vc = lin_func(mag_V, mag_params['slope'][1], mag_params['constant'][1])\n",
    "\n",
    "# the data \n",
    "x = (mag_Bc - mag_Vc)[~np.isnan(mag_Bc)]\n",
    "y = mag_Vc[~np.isnan(mag_Bc)]\n",
    "\n",
    "nullfmt = NullFormatter()         # no labels\n",
    "\n",
    "# definitions for the axes\n",
    "left, width = 0.1, 0.65\n",
    "bottom, height = 0.1, 0.65\n",
    "bottom_h = left_h = left + width + 0.02\n",
    "\n",
    "rect_scatter = [left, bottom, width, height]\n",
    "rect_histx = [left, bottom_h, width, 0.2]\n",
    "rect_histy = [left_h, bottom, 0.2, height]\n",
    "\n",
    "# start with a rectangular Figure\n",
    "plt.figure(1, figsize=(8, 8))\n",
    "\n",
    "axScatter = plt.axes(rect_scatter)\n",
    "axHistx = plt.axes(rect_histx)\n",
    "axHisty = plt.axes(rect_histy)\n",
    "\n",
    "# no labels\n",
    "axHistx.xaxis.set_major_formatter(nullfmt)\n",
    "axHisty.yaxis.set_major_formatter(nullfmt)\n",
    "\n",
    "# the scatter plot:\n",
    "axScatter.scatter(x, y)\n",
    "\n",
    "# now determine nice limits by hand:\n",
    "binwidth = 0.25\n",
    "xymax = np.max([np.max(np.fabs(x)), np.max(np.fabs(y))])\n",
    "lim = (int(xymax/binwidth) + 1) * binwidth\n",
    "\n",
    "axScatter.set_xlabel('B-V')\n",
    "axScatter.set_ylabel('V')\n",
    "axScatter.invert_yaxis()\n",
    "\n",
    "bins = np.arange(-lim, lim + binwidth, binwidth)\n",
    "axHistx.hist(x, bins=bins)\n",
    "axHisty.hist(y, bins=bins, orientation='horizontal')\n",
    "axHisty.invert_yaxis()\n",
    "\n",
    "# axHistx.set_xlim(axScatter.get_xlim())\n",
    "# axHisty.set_ylim(axScatter.get_ylim())\n",
    "\n",
    "plt.show()"
   ]
  }
 ],
 "metadata": {
  "interpreter": {
   "hash": "73df3d2a648ddfe6e132dd0b2981f8c5ee01eb57f65aaa52301d101a94b0ebb5"
  },
  "kernelspec": {
   "display_name": "Python 3.7.11 ('base')",
   "language": "python",
   "name": "python3"
  },
  "language_info": {
   "codemirror_mode": {
    "name": "ipython",
    "version": 3
   },
   "file_extension": ".py",
   "mimetype": "text/x-python",
   "name": "python",
   "nbconvert_exporter": "python",
   "pygments_lexer": "ipython3",
   "version": "3.7.11"
  },
  "orig_nbformat": 4
 },
 "nbformat": 4,
 "nbformat_minor": 2
}
