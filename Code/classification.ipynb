{
 "cells": [
  {
   "cell_type": "markdown",
   "metadata": {},
   "source": [
    "# Classification \n",
    "\n",
    "This notebook is for use classifying each of the observed clusters according to the Trumplar system. This is done using three parameters. a) Range of Brightness b) Degree of Concertration c) Cluster Population. Firstly loading required packages and processed data.\n"
   ]
  },
  {
   "cell_type": "code",
   "execution_count": 560,
   "metadata": {},
   "outputs": [],
   "source": [
    "import numpy as np \n",
    "import pandas as pd \n",
    "import os \n",
    "import glob\n",
    "import matplotlib.pyplot as plt\n",
    "from matplotlib.ticker import NullFormatter\n",
    "import seaborn as sns \n",
    "color_palette = sns.color_palette(\"plasma\")\n",
    "\n",
    "from sklearn.manifold import TSNE\n",
    "import seaborn as sns\n",
    "from matplotlib.ticker import MaxNLocator\n",
    "from sklearn.cluster import dbscan\n",
    "from sklearn.datasets import *\n",
    "import hdbscan\n",
    "\n",
    "from astropy import wcs\n",
    "from astropy.stats import mad_std\n",
    "from photutils import DAOStarFinder\n",
    "from astropy.io import fits\n",
    "from photutils import *\n",
    "from astropy.coordinates import Angle, SkyCoord\n",
    "from isochrones.mist import MIST_Isochrone\n",
    "iso = MIST_Isochrone(bands=['B','V'])"
   ]
  },
  {
   "cell_type": "markdown",
   "metadata": {},
   "source": [
    "Loading astrometric images and photometry parameters. "
   ]
  },
  {
   "cell_type": "code",
   "execution_count": 561,
   "metadata": {},
   "outputs": [
    {
     "name": "stdout",
     "output_type": "stream",
     "text": [
      "['astrometric_obs_data/Bochum2_B_wcs.fits', 'astrometric_obs_data/Bochum2_V_wcs.fits', 'astrometric_obs_data/NGC2324_B_wcs.fits', 'astrometric_obs_data/NGC2324_V_wcs.fits', 'astrometric_obs_data/NGC2355_B_wcs.fits', 'astrometric_obs_data/NGC2355_V_wcs.fits', 'astrometric_obs_data/berkeley28_B_wcs.fits', 'astrometric_obs_data/berkeley28_V_wcs.fits']\n"
     ]
    }
   ],
   "source": [
    "file_list = sorted(glob.glob('astrometric_obs_data/*.fits'))\n",
    "print(file_list)"
   ]
  },
  {
   "cell_type": "code",
   "execution_count": 562,
   "metadata": {},
   "outputs": [
    {
     "data": {
      "text/html": [
       "<div>\n",
       "<style scoped>\n",
       "    .dataframe tbody tr th:only-of-type {\n",
       "        vertical-align: middle;\n",
       "    }\n",
       "\n",
       "    .dataframe tbody tr th {\n",
       "        vertical-align: top;\n",
       "    }\n",
       "\n",
       "    .dataframe thead th {\n",
       "        text-align: right;\n",
       "    }\n",
       "</style>\n",
       "<table border=\"1\" class=\"dataframe\">\n",
       "  <thead>\n",
       "    <tr style=\"text-align: right;\">\n",
       "      <th></th>\n",
       "      <th>Name</th>\n",
       "      <th>FWHM_V</th>\n",
       "      <th>FWHM_B</th>\n",
       "      <th>Aper_V</th>\n",
       "      <th>Aper_B</th>\n",
       "      <th>bkg_V</th>\n",
       "      <th>bkg_B</th>\n",
       "    </tr>\n",
       "  </thead>\n",
       "  <tbody>\n",
       "    <tr>\n",
       "      <th>0</th>\n",
       "      <td>Bochum 2</td>\n",
       "      <td>3.9</td>\n",
       "      <td>3.5</td>\n",
       "      <td>4.918034</td>\n",
       "      <td>2.599187</td>\n",
       "      <td>781.186107</td>\n",
       "      <td>778.034053</td>\n",
       "    </tr>\n",
       "    <tr>\n",
       "      <th>1</th>\n",
       "      <td>NGC2324</td>\n",
       "      <td>4.2</td>\n",
       "      <td>4.1</td>\n",
       "      <td>5.111358</td>\n",
       "      <td>3.183833</td>\n",
       "      <td>791.719962</td>\n",
       "      <td>791.116424</td>\n",
       "    </tr>\n",
       "    <tr>\n",
       "      <th>2</th>\n",
       "      <td>berkeley28</td>\n",
       "      <td>3.6</td>\n",
       "      <td>4.2</td>\n",
       "      <td>4.294812</td>\n",
       "      <td>2.251437</td>\n",
       "      <td>791.000000</td>\n",
       "      <td>783.000000</td>\n",
       "    </tr>\n",
       "    <tr>\n",
       "      <th>3</th>\n",
       "      <td>NGC2355</td>\n",
       "      <td>4.5</td>\n",
       "      <td>4.4</td>\n",
       "      <td>4.893446</td>\n",
       "      <td>3.350120</td>\n",
       "      <td>782.000000</td>\n",
       "      <td>852.000000</td>\n",
       "    </tr>\n",
       "  </tbody>\n",
       "</table>\n",
       "</div>"
      ],
      "text/plain": [
       "        Name   FWHM_V  FWHM_B    Aper_V    Aper_B       bkg_V       bkg_B\n",
       "0    Bochum 2     3.9     3.5  4.918034  2.599187  781.186107  778.034053\n",
       "1     NGC2324     4.2     4.1  5.111358  3.183833  791.719962  791.116424\n",
       "2  berkeley28     3.6     4.2  4.294812  2.251437  791.000000  783.000000\n",
       "3     NGC2355     4.5     4.4  4.893446  3.350120  782.000000  852.000000"
      ]
     },
     "execution_count": 562,
     "metadata": {},
     "output_type": "execute_result"
    }
   ],
   "source": [
    "photo_params = pd.read_csv('calibration_parameters/photo_params.csv') # - loading photometry parameters previously calculated. \n",
    "photo_params.head()"
   ]
  },
  {
   "cell_type": "code",
   "execution_count": 563,
   "metadata": {},
   "outputs": [],
   "source": [
    "def lin_func(x, m, c): # - linear fit for magnitude calibration.\n",
    "    return m*x + c \n",
    "\n",
    "mag_params = pd.read_csv('calibration_parameters/magnitude_processing/magnitude_cal.csv')"
   ]
  },
  {
   "cell_type": "markdown",
   "metadata": {},
   "source": [
    "Loading previously defined star finder."
   ]
  },
  {
   "cell_type": "code",
   "execution_count": 564,
   "metadata": {},
   "outputs": [],
   "source": [
    "def starfinder(data, fwhm):\n",
    "    mst_std = mad_std(data)\n",
    "    daofind = DAOStarFinder(fwhm = fwhm, threshold = 5*mst_std)\n",
    "    mst_sources = daofind(data)\n",
    "\n",
    "    for col in mst_sources.colnames: \n",
    "        mst_sources[col].info.format = '%.8g'\n",
    "\n",
    "    return mst_sources"
   ]
  },
  {
   "cell_type": "markdown",
   "metadata": {},
   "source": [
    "Also using previous method of wcs co-ordinates to find simlarities in detection. However, this section of script is edited to calcualte the distance of a detected star from the clusters known center. "
   ]
  },
  {
   "cell_type": "code",
   "execution_count": 565,
   "metadata": {},
   "outputs": [],
   "source": [
    "def common_sources(filename_V, filename_B, v_sources_raw, b_sources_raw):\n",
    "    vhdulist = fits.open(filename_V)\n",
    "    v_wcs = wcs.WCS(vhdulist[0].header)\n",
    "    x_cordv = v_sources_raw['xcentroid']; y_cordv = v_sources_raw['ycentroid']\n",
    "    v_cord = v_wcs.pixel_to_world(x_cordv, y_cordv)\n",
    "\n",
    "    bhdulist = fits.open(filename_B)\n",
    "    x_cordb = b_sources_raw['xcentroid']; y_cordb = b_sources_raw['ycentroid']\n",
    "    b_wcs = wcs.WCS(bhdulist[0].header)\n",
    "    b_cord = b_wcs.pixel_to_world(x_cordb, y_cordb)\n",
    "    vcoord_index = []; bcoord_index = []\n",
    "\n",
    "    v_idx = 0\n",
    "    for cord in v_cord: \n",
    "        sep2tar = cord.separation(b_cord).degree\n",
    "        if sep2tar.min() < 1.73e-3: \n",
    "            vcoord_index.append(v_idx)\n",
    "            bcoord_index.append(np.argmin(sep2tar))\n",
    "        v_idx += 1 \n",
    "\n",
    "    v_sources = v_sources_raw[vcoord_index]; b_sources = b_sources_raw[bcoord_index]\n",
    "\n",
    "    if len(v_sources) != len(b_sources):\n",
    "        print('HALT!') \n",
    "    else: \n",
    "        print('Common Targets:', len(v_sources))\n",
    "\n",
    "    center =  v_wcs.pixel_to_world(np.shape(vhdulist[0].data)[0]/2, np.shape(vhdulist[0].data)[1]/2)\n",
    "\n",
    "    sep2cntr = []; v_cord = v_wcs.pixel_to_world(x_cordv[vcoord_index], y_cordv[vcoord_index])\n",
    "    for star in v_cord: \n",
    "        sep2cntr.append(center.separation(star).degree)\n",
    "\n",
    "    return v_sources, b_sources, np.array(sep2cntr), v_cord"
   ]
  },
  {
   "cell_type": "markdown",
   "metadata": {},
   "source": [
    "Re-incorporating the script for photometry and doing the signal to noise calculation as per data analysis review. \n",
    "\n",
    "\\begin{equation}\n",
    "SNR = \\dfrac{N^{net}_{star}}{\\sqrt{N^{net}_{star}+N_{sky}+N_{noise}}}\n",
    "\\end{equation}"
   ]
  },
  {
   "cell_type": "code",
   "execution_count": 566,
   "metadata": {},
   "outputs": [],
   "source": [
    "def aper_photometry(data, sources, aper, bkg_counts):\n",
    "    positions = np.transpose((sources['xcentroid'], sources['ycentroid']))\n",
    "    \n",
    "    # Aperture  \n",
    "    aperture = CircularAperture(positions, r=aper)\n",
    "    phot_table = aperture_photometry(data - bkg_counts, aperture)\n",
    "\n",
    "    snr = np.array([])\n",
    "\n",
    "    for col in phot_table.colnames[3:]:\n",
    "        # bkg_total = bkg_counts*aperture.area\n",
    "        net_star = phot_table[col] \n",
    "        snr = np.append(snr, net_star / np.sqrt(net_star))\n",
    "\n",
    "\n",
    "    #- Now we get the final table of background subtracted counts for each star\n",
    "    final_sum = phot_table['aperture_sum']\n",
    "\n",
    "    return -2.5*np.log10(final_sum), snr"
   ]
  },
  {
   "cell_type": "markdown",
   "metadata": {},
   "source": [
    "combing all the above steps in a unification function returns, "
   ]
  },
  {
   "cell_type": "code",
   "execution_count": 567,
   "metadata": {},
   "outputs": [],
   "source": [
    "def unifi_steps(filename_V, filename_B, table_index):\n",
    "\n",
    "    data_B = fits.getdata(filename_B); data_V = fits.getdata(filename_V)\n",
    "    fwhm_B = photo_params['FWHM_B'][table_index]; fwhm_V = photo_params['FWHM_V'][table_index]\n",
    "    aper_B = photo_params['Aper_B'][table_index]; aper_V = photo_params['Aper_V'][table_index]\n",
    "    bkg_B = photo_params['bkg_B'][table_index]; bkg_V = photo_params['bkg_V'][table_index]\n",
    "\n",
    "    raw_B_sources = starfinder(data_B, fwhm_B) # returns list of sources from DAO. \n",
    "    raw_V_sources = starfinder(data_V, fwhm_V)\n",
    "\n",
    "    fil_V_sources, fil_B_sources, seperation_values, target_coords = common_sources(filename_V, filename_B, raw_V_sources, raw_B_sources) # returns common sources between both B & V filters. \n",
    "\n",
    "    mag_V, snr_V = aper_photometry(data_V, fil_V_sources, aper_V, bkg_V)\n",
    "    mag_B, snr_B = aper_photometry(data_B, fil_B_sources, aper_B, bkg_B)\n",
    "\n",
    "    return mag_V, mag_B, snr_B, snr_V, fil_V_sources, fil_B_sources, seperation_values, target_coords"
   ]
  },
  {
   "cell_type": "code",
   "execution_count": 568,
   "metadata": {},
   "outputs": [
    {
     "data": {
      "text/html": [
       "<div>\n",
       "<style scoped>\n",
       "    .dataframe tbody tr th:only-of-type {\n",
       "        vertical-align: middle;\n",
       "    }\n",
       "\n",
       "    .dataframe tbody tr th {\n",
       "        vertical-align: top;\n",
       "    }\n",
       "\n",
       "    .dataframe thead th {\n",
       "        text-align: right;\n",
       "    }\n",
       "</style>\n",
       "<table border=\"1\" class=\"dataframe\">\n",
       "  <thead>\n",
       "    <tr style=\"text-align: right;\">\n",
       "      <th></th>\n",
       "      <th>Name</th>\n",
       "      <th>FWHM_V</th>\n",
       "      <th>FWHM_B</th>\n",
       "      <th>Aper_V</th>\n",
       "      <th>Aper_B</th>\n",
       "      <th>bkg_V</th>\n",
       "      <th>bkg_B</th>\n",
       "    </tr>\n",
       "  </thead>\n",
       "  <tbody>\n",
       "    <tr>\n",
       "      <th>0</th>\n",
       "      <td>Bochum 2</td>\n",
       "      <td>3.9</td>\n",
       "      <td>3.5</td>\n",
       "      <td>4.918034</td>\n",
       "      <td>2.599187</td>\n",
       "      <td>781.186107</td>\n",
       "      <td>778.034053</td>\n",
       "    </tr>\n",
       "    <tr>\n",
       "      <th>1</th>\n",
       "      <td>NGC2324</td>\n",
       "      <td>4.2</td>\n",
       "      <td>4.1</td>\n",
       "      <td>5.111358</td>\n",
       "      <td>3.183833</td>\n",
       "      <td>791.719962</td>\n",
       "      <td>791.116424</td>\n",
       "    </tr>\n",
       "    <tr>\n",
       "      <th>2</th>\n",
       "      <td>berkeley28</td>\n",
       "      <td>3.6</td>\n",
       "      <td>4.2</td>\n",
       "      <td>4.294812</td>\n",
       "      <td>2.251437</td>\n",
       "      <td>791.000000</td>\n",
       "      <td>783.000000</td>\n",
       "    </tr>\n",
       "    <tr>\n",
       "      <th>3</th>\n",
       "      <td>NGC2355</td>\n",
       "      <td>4.5</td>\n",
       "      <td>4.4</td>\n",
       "      <td>4.893446</td>\n",
       "      <td>3.350120</td>\n",
       "      <td>782.000000</td>\n",
       "      <td>852.000000</td>\n",
       "    </tr>\n",
       "  </tbody>\n",
       "</table>\n",
       "</div>"
      ],
      "text/plain": [
       "        Name   FWHM_V  FWHM_B    Aper_V    Aper_B       bkg_V       bkg_B\n",
       "0    Bochum 2     3.9     3.5  4.918034  2.599187  781.186107  778.034053\n",
       "1     NGC2324     4.2     4.1  5.111358  3.183833  791.719962  791.116424\n",
       "2  berkeley28     3.6     4.2  4.294812  2.251437  791.000000  783.000000\n",
       "3     NGC2355     4.5     4.4  4.893446  3.350120  782.000000  852.000000"
      ]
     },
     "execution_count": 568,
     "metadata": {},
     "output_type": "execute_result"
    }
   ],
   "source": [
    "photo_params"
   ]
  },
  {
   "cell_type": "code",
   "execution_count": 569,
   "metadata": {},
   "outputs": [
    {
     "data": {
      "text/html": [
       "<div>\n",
       "<style scoped>\n",
       "    .dataframe tbody tr th:only-of-type {\n",
       "        vertical-align: middle;\n",
       "    }\n",
       "\n",
       "    .dataframe tbody tr th {\n",
       "        vertical-align: top;\n",
       "    }\n",
       "\n",
       "    .dataframe thead th {\n",
       "        text-align: right;\n",
       "    }\n",
       "</style>\n",
       "<table border=\"1\" class=\"dataframe\">\n",
       "  <thead>\n",
       "    <tr style=\"text-align: right;\">\n",
       "      <th></th>\n",
       "      <th>target</th>\n",
       "      <th>slope</th>\n",
       "      <th>constant</th>\n",
       "      <th>slope_err</th>\n",
       "      <th>constant_err</th>\n",
       "    </tr>\n",
       "  </thead>\n",
       "  <tbody>\n",
       "    <tr>\n",
       "      <th>0</th>\n",
       "      <td>berkeley28_B</td>\n",
       "      <td>0.971244</td>\n",
       "      <td>23.975025</td>\n",
       "      <td>0.021307</td>\n",
       "      <td>0.177514</td>\n",
       "    </tr>\n",
       "    <tr>\n",
       "      <th>1</th>\n",
       "      <td>berkeley28_V</td>\n",
       "      <td>1.001256</td>\n",
       "      <td>24.526199</td>\n",
       "      <td>0.005840</td>\n",
       "      <td>0.057108</td>\n",
       "    </tr>\n",
       "    <tr>\n",
       "      <th>2</th>\n",
       "      <td>Bochum2_B</td>\n",
       "      <td>1.020409</td>\n",
       "      <td>24.677540</td>\n",
       "      <td>0.010366</td>\n",
       "      <td>0.095138</td>\n",
       "    </tr>\n",
       "    <tr>\n",
       "      <th>3</th>\n",
       "      <td>Bochum2_V</td>\n",
       "      <td>1.045326</td>\n",
       "      <td>25.174370</td>\n",
       "      <td>0.015138</td>\n",
       "      <td>0.158771</td>\n",
       "    </tr>\n",
       "    <tr>\n",
       "      <th>4</th>\n",
       "      <td>NGC2324_B</td>\n",
       "      <td>0.987966</td>\n",
       "      <td>24.082465</td>\n",
       "      <td>0.014919</td>\n",
       "      <td>0.140935</td>\n",
       "    </tr>\n",
       "    <tr>\n",
       "      <th>5</th>\n",
       "      <td>NGC2324_V</td>\n",
       "      <td>1.103228</td>\n",
       "      <td>25.465649</td>\n",
       "      <td>0.001510</td>\n",
       "      <td>0.016055</td>\n",
       "    </tr>\n",
       "    <tr>\n",
       "      <th>6</th>\n",
       "      <td>NGC2355_B</td>\n",
       "      <td>1.015697</td>\n",
       "      <td>24.756676</td>\n",
       "      <td>0.005128</td>\n",
       "      <td>0.051794</td>\n",
       "    </tr>\n",
       "    <tr>\n",
       "      <th>7</th>\n",
       "      <td>NGC2355_V</td>\n",
       "      <td>1.085197</td>\n",
       "      <td>25.624728</td>\n",
       "      <td>0.012554</td>\n",
       "      <td>0.126313</td>\n",
       "    </tr>\n",
       "  </tbody>\n",
       "</table>\n",
       "</div>"
      ],
      "text/plain": [
       "         target     slope   constant  slope_err  constant_err\n",
       "0  berkeley28_B  0.971244  23.975025   0.021307      0.177514\n",
       "1  berkeley28_V  1.001256  24.526199   0.005840      0.057108\n",
       "2     Bochum2_B  1.020409  24.677540   0.010366      0.095138\n",
       "3     Bochum2_V  1.045326  25.174370   0.015138      0.158771\n",
       "4     NGC2324_B  0.987966  24.082465   0.014919      0.140935\n",
       "5     NGC2324_V  1.103228  25.465649   0.001510      0.016055\n",
       "6     NGC2355_B  1.015697  24.756676   0.005128      0.051794\n",
       "7     NGC2355_V  1.085197  25.624728   0.012554      0.126313"
      ]
     },
     "execution_count": 569,
     "metadata": {},
     "output_type": "execute_result"
    }
   ],
   "source": [
    "mag_params"
   ]
  },
  {
   "cell_type": "markdown",
   "metadata": {},
   "source": [
    "This cluster was used for intial tests as it was the poorest documented of the clusters observed. Here error analysis and attempts to classify and fit isochrones.\n",
    "The instrumental magnitudes were calibrated to the APASS9 catalog (Johnson filters)\n",
    "\n",
    "$$ \\sigma_y =  \\sqrt{ x^2 \\sigma^2_m + \\sigma^2_C + 2x \\sigma_m} $$ "
   ]
  },
  {
   "cell_type": "code",
   "execution_count": 570,
   "metadata": {},
   "outputs": [],
   "source": [
    "def covariance_propagation(x, slope_err, const_err): \n",
    "    return np.sqrt(x**2*slope_err**2 + const_err**2) #+ 2*x*slope_err)"
   ]
  },
  {
   "cell_type": "markdown",
   "metadata": {},
   "source": [
    "## NGC 2324"
   ]
  },
  {
   "cell_type": "code",
   "execution_count": 580,
   "metadata": {},
   "outputs": [
    {
     "name": "stdout",
     "output_type": "stream",
     "text": [
      "Common Targets: 334\n"
     ]
    },
    {
     "name": "stderr",
     "output_type": "stream",
     "text": [
      "/Library/anaconda3/lib/python3.7/site-packages/ipykernel_launcher.py:13: RuntimeWarning: invalid value encountered in sqrt\n",
      "  del sys.path[0]\n",
      "/Library/anaconda3/lib/python3.7/site-packages/ipykernel_launcher.py:19: RuntimeWarning: invalid value encountered in log10\n"
     ]
    },
    {
     "name": "stdout",
     "output_type": "stream",
     "text": [
      "Average seperation from the center 2.8406284980049334\n",
      "2.7216342112001355\n"
     ]
    },
    {
     "data": {
      "image/png": "[encoded data removed]",
      "text/plain": [
       "<Figure size 800x1000 with 1 Axes>"
      ]
     },
     "metadata": {
      "needs_background": "light"
     },
     "output_type": "display_data"
    }
   ],
   "source": [
    "mag_V, mag_B, snr_B, snr_V, sources_V, sources_B, seperation, target_coords_v = unifi_steps('astrometric_obs_data/NGC2324_V_wcs.fits', 'astrometric_obs_data/NGC2324_B_wcs.fits', 1)\n",
    "\n",
    "mag_Bc = lin_func(mag_B, mag_params['slope'][4], mag_params['constant'][4])\n",
    "mag_Vc = lin_func(mag_V, mag_params['slope'][5], mag_params['constant'][5])\n",
    "\n",
    "mag_V_err = covariance_propagation(mag_V, mag_params['slope_err'][1], mag_params['constant_err'][1])\n",
    "\n",
    "nan_mask = np.in1d(np.isnan(mag_Bc), np.isnan(mag_Vc))\n",
    "mag_Bc = mag_Bc[nan_mask]; mag_Vc = mag_Vc[nan_mask]\n",
    "target_coords_v = target_coords_v[nan_mask]\n",
    "\n",
    "data = pd.DataFrame({'mag_B': mag_Bc, 'emag_B':abs(1/snr_B)[nan_mask], 'mag_V':mag_Vc, 'emag_V':abs(1/snr_V)[nan_mask]})\n",
    "data.to_csv('calibrated_mags/berkeley28.csv')\n",
    "\n",
    "print('Average seperation from the center', seperation.mean()*60)\n",
    "\n",
    "ax = plt.figure(figsize=(8, 10)).gca()\n",
    "plt.hist(seperation*60, bins = int(len(sources_V)*0.2), facecolor = 'None', edgecolor = 'k')\n",
    "plt.axvline(seperation.mean()*60, color = 'blue')\n",
    "plt.axvline(seperation.mean()*60 + seperation.std()*60, color = 'red'); plt.axvline(seperation.mean()*60 - seperation.std()*60, color = 'red')\n",
    "plt.xlabel('Angular Seperation, $\\sigma_s$ [arcmin]', fontsize = 24); plt.ylabel('Number of Stars, $n$', fontsize = 24)\n",
    "ax.yaxis.set_major_locator(MaxNLocator(integer=True))\n",
    "print(seperation.std()*2*60)"
   ]
  },
  {
   "cell_type": "code",
   "execution_count": 581,
   "metadata": {},
   "outputs": [
    {
     "name": "stdout",
     "output_type": "stream",
     "text": [
      "Unique Clusters found 2\n",
      "-1.0 : 15\n",
      "0.0 : 316\n"
     ]
    },
    {
     "name": "stderr",
     "output_type": "stream",
     "text": [
      "/Library/anaconda3/lib/python3.7/site-packages/sklearn/utils/validation.py:72: FutureWarning: Pass min_samples=16 as keyword args. From version 1.0 (renaming of 0.25) passing these as positional arguments will result in an error\n",
      "  \"will result in an error\", FutureWarning)\n"
     ]
    }
   ],
   "source": [
    "clus_size = int(.05*len(mag_Vc))\n",
    "cmd_data = np.transpose(np.array([mag_Vc, (mag_Bc - mag_Vc)]))\n",
    "\n",
    "# -- DBSCAN Calculation -- \n",
    "preds = dbscan(cmd_data, .5, clus_size)[1]\n",
    "dbscanned_data = np.append(cmd_data, preds.reshape(-1,1), axis=1)\n",
    "scanned_dataframe = pd.DataFrame(dbscanned_data); scanned_dataframe = scanned_dataframe.rename(columns={0: \"V_mag\", 1: \"BV_mag\", 2: \"cluster_no\"})\n",
    "\n",
    "print('Unique Clusters found', len(np.unique(scanned_dataframe['cluster_no'])))\n",
    "\n",
    "for i in np.unique(scanned_dataframe['cluster_no']): \n",
    "    count = np.count_nonzero(scanned_dataframe['cluster_no'] == i)\n",
    "    print(i, ':', count)"
   ]
  },
  {
   "cell_type": "code",
   "execution_count": 582,
   "metadata": {},
   "outputs": [
    {
     "name": "stdout",
     "output_type": "stream",
     "text": [
      "Unique clusters found: 3\n",
      "Respective sizes: \n",
      " ---\n",
      "-1 : 219\n",
      "0 : 93\n",
      "1 : 19\n"
     ]
    }
   ],
   "source": [
    "cmd_data = np.transpose(np.array([mag_Vc, (mag_Bc - mag_Vc)]))\n",
    "\n",
    "clusterer = hdbscan.HDBSCAN(min_cluster_size = clus_size).fit(cmd_data)\n",
    "grouping = clusterer.labels_\n",
    "probablities = clusterer.probabilities_\n",
    "\n",
    "print('Unique clusters found:', len(np.unique(grouping)))\n",
    "print('Respective sizes: \\n ---')\n",
    "\n",
    "for i in np.unique(grouping): \n",
    "    count = np.count_nonzero(grouping == i)\n",
    "    print(i, ':', count)\n",
    "\n",
    "# print('\\n --- \\n Probablities: \\n', probablities)"
   ]
  },
  {
   "cell_type": "code",
   "execution_count": 583,
   "metadata": {},
   "outputs": [
    {
     "data": {
      "image/png": "[encoded data removed]",
      "text/plain": [
       "<Figure size 1800x800 with 3 Axes>"
      ]
     },
     "metadata": {
      "needs_background": "light"
     },
     "output_type": "display_data"
    }
   ],
   "source": [
    "fig, (ax1, ax2, ax3) = plt.subplots(1, 3, figsize=(18,8), dpi = 100)\n",
    "\n",
    "dot_size = 15\n",
    "\n",
    "# fig.suptitle('Population Determination Comparison: NGC 2324')\n",
    "\n",
    "# --- DBScan Plot --- \n",
    "ax1.scatter(scanned_dataframe['BV_mag'], scanned_dataframe['V_mag'], c = scanned_dataframe['cluster_no'], label = scanned_dataframe['cluster_no'], cmap = 'plasma', s = dot_size)\n",
    "y_low, y_high = ax1.get_ylim(); x_low, x_high = ax1.get_xlim()\n",
    "ax1.set_title('DBSCAN')\n",
    "ax1.set_ylabel('V [mag]')\n",
    "\n",
    "\n",
    "# --- HDBScan Plot --- \n",
    "c = 0\n",
    "for i in np.unique(grouping):\n",
    "    cluster_mask = np.where(grouping == i)\n",
    "    ax2.scatter((mag_Bc - mag_Vc)[cluster_mask], mag_Vc[cluster_mask], s = dot_size, color = color_palette[i])\n",
    "    c += 1\n",
    "ax2.set_title('HDBSCAN')\n",
    "\n",
    "\n",
    "# --- Archived Data Plot --- \n",
    "webda_V, webda_BV = np.loadtxt('calibration_parameters/magnitude_processing/NGC2324_WEBDA.txt', usecols = (2, 3), unpack = True)\n",
    "ax3.scatter(webda_BV, webda_V, s = dot_size, color = color_palette[3])\n",
    "ax3.set_xlim(x_low, x_high); ax3.set_ylim(y_low, y_high)\n",
    "ax3.set_title('Frandsen S. et al. (1998)')\n",
    "\n",
    "\n",
    "for ax in fig.get_axes():\n",
    "    ax.label_outer()\n",
    "    ax.set_xlabel('B-V [colour]')\n",
    "    ax.invert_yaxis()\n",
    "\n",
    "plt.tight_layout()"
   ]
  },
  {
   "cell_type": "markdown",
   "metadata": {},
   "source": [
    "## Gaia Comparison "
   ]
  },
  {
   "cell_type": "code",
   "execution_count": 575,
   "metadata": {},
   "outputs": [],
   "source": [
    "def find_nearest(array, value):\n",
    "    array = np.asarray(array); idx = (np.abs(array - value)).argmin()\n",
    "    return array[idx], idx"
   ]
  },
  {
   "cell_type": "code",
   "execution_count": 585,
   "metadata": {},
   "outputs": [
    {
     "name": "stdout",
     "output_type": "stream",
     "text": [
      "\n",
      " This works: 251 \n",
      " 2021 Study: 242\n"
     ]
    },
    {
     "data": {
      "text/html": [
       "<div>\n",
       "<style scoped>\n",
       "    .dataframe tbody tr th:only-of-type {\n",
       "        vertical-align: middle;\n",
       "    }\n",
       "\n",
       "    .dataframe tbody tr th {\n",
       "        vertical-align: top;\n",
       "    }\n",
       "\n",
       "    .dataframe thead th {\n",
       "        text-align: right;\n",
       "    }\n",
       "</style>\n",
       "<table border=\"1\" class=\"dataframe\">\n",
       "  <thead>\n",
       "    <tr style=\"text-align: right;\">\n",
       "      <th></th>\n",
       "      <th>Unnamed: 0</th>\n",
       "      <th>RA_ICRS</th>\n",
       "      <th>DE_ICRS</th>\n",
       "      <th>e_RA_ICRS</th>\n",
       "      <th>e_DE_ICRS</th>\n",
       "      <th>mem_prob</th>\n",
       "    </tr>\n",
       "  </thead>\n",
       "  <tbody>\n",
       "    <tr>\n",
       "      <th>0</th>\n",
       "      <td>0</td>\n",
       "      <td>106.008380</td>\n",
       "      <td>0.881757</td>\n",
       "      <td>0.2498</td>\n",
       "      <td>0.2384</td>\n",
       "      <td>1.000000</td>\n",
       "    </tr>\n",
       "    <tr>\n",
       "      <th>1</th>\n",
       "      <td>9</td>\n",
       "      <td>105.995933</td>\n",
       "      <td>0.893122</td>\n",
       "      <td>0.3791</td>\n",
       "      <td>0.4108</td>\n",
       "      <td>0.917581</td>\n",
       "    </tr>\n",
       "    <tr>\n",
       "      <th>2</th>\n",
       "      <td>10</td>\n",
       "      <td>105.999244</td>\n",
       "      <td>0.891119</td>\n",
       "      <td>0.1975</td>\n",
       "      <td>0.1847</td>\n",
       "      <td>1.000000</td>\n",
       "    </tr>\n",
       "    <tr>\n",
       "      <th>3</th>\n",
       "      <td>11</td>\n",
       "      <td>105.996237</td>\n",
       "      <td>0.886948</td>\n",
       "      <td>0.2556</td>\n",
       "      <td>0.2401</td>\n",
       "      <td>1.000000</td>\n",
       "    </tr>\n",
       "    <tr>\n",
       "      <th>4</th>\n",
       "      <td>13</td>\n",
       "      <td>106.001857</td>\n",
       "      <td>0.884655</td>\n",
       "      <td>0.4064</td>\n",
       "      <td>0.4229</td>\n",
       "      <td>1.000000</td>\n",
       "    </tr>\n",
       "  </tbody>\n",
       "</table>\n",
       "</div>"
      ],
      "text/plain": [
       "   Unnamed: 0     RA_ICRS   DE_ICRS  e_RA_ICRS  e_DE_ICRS  mem_prob\n",
       "0           0  106.008380  0.881757     0.2498     0.2384  1.000000\n",
       "1           9  105.995933  0.893122     0.3791     0.4108  0.917581\n",
       "2          10  105.999244  0.891119     0.1975     0.1847  1.000000\n",
       "3          11  105.996237  0.886948     0.2556     0.2401  1.000000\n",
       "4          13  106.001857  0.884655     0.4064     0.4229  1.000000"
      ]
     },
     "execution_count": 585,
     "metadata": {},
     "output_type": "execute_result"
    }
   ],
   "source": [
    "gaia_data = pd.read_csv('gaia_cluster_populations/NGC2324.csv')\n",
    "gaia_coords = SkyCoord(gaia_data['RA_ICRS'], gaia_data['DE_ICRS'],unit = 'deg')\n",
    "\n",
    "matching_mags = []\n",
    "for i in range(0, len(target_coords_v)): \n",
    "        sep2tar = target_coords_v[i].separation(gaia_coords).degree\n",
    "        if sep2tar.min() < 1e-3: \n",
    "            matching_mags.append(i)\n",
    "            \n",
    "gaia_matched_B = mag_Bc[matching_mags]\n",
    "# gaia_matched_V = mag_Vc[matching_mags]\n",
    "print('\\n This works:', len(gaia_matched_B), '\\n 2021 Study: 242')\n",
    "gaia_data.head()"
   ]
  },
  {
   "cell_type": "code",
   "execution_count": 586,
   "metadata": {},
   "outputs": [
    {
     "data": {
      "image/png": "[encoded data removed]",
      "text/plain": [
       "<Figure size 1000x1000 with 3 Axes>"
      ]
     },
     "metadata": {
      "needs_background": "light"
     },
     "output_type": "display_data"
    }
   ],
   "source": [
    "plt.rcParams['axes.spines.right'] = True\n",
    "plt.rcParams['axes.spines.top'] = True \n",
    "plt.rcParams['font.size'] = '16'\n",
    "\n",
    "# the data \n",
    "y = gaia_matched_V[~np.isnan(gaia_matched_B)]\n",
    "x = (gaia_matched_B - gaia_matched_V)[~np.isnan(gaia_matched_B)]\n",
    "\n",
    "# Set up the axes with gridspec\n",
    "fig = plt.figure(figsize=(10, 10), dpi = 100)\n",
    "grid = plt.GridSpec(4, 4, hspace=0.2, wspace=0.2)\n",
    "main_ax = fig.add_subplot(grid[:-1, 1:])\n",
    "y_hist = fig.add_subplot(grid[:-1, 0], xticklabels=[], sharey=main_ax)\n",
    "x_hist = fig.add_subplot(grid[-1, 1:], yticklabels=[], sharex=main_ax)\n",
    "\n",
    "\n",
    "# isochrone fitting \n",
    "isochrone = iso.isochrone(age = 8.65, feh = -0.52)\n",
    "\n",
    "\n",
    "modelv = isochrone['V_mag'] + 13.1\n",
    "modelbv = (isochrone['B_mag'] - isochrone['V_mag']) + .627\n",
    "main_ax.plot(modelbv, modelv)\n",
    "\n",
    "# scatter points on the main axes\n",
    "\n",
    "main_ax.scatter(x, y, color = color_palette[2], s=dot_size, alpha=0.8)\n",
    "# main_ax.scatter(webda_BV, webda_V, color = color_palette[3], s=dot_size, alpha=0.8)\n",
    "x_low, x_high = ((x.min() - 0.5), (x.max() + 0.5)); y_low, y_high = ((y.min() - 1), (y.max() + 3))\n",
    "\n",
    "# histogram on the attached axes\n",
    "x_hist.hist(x, 40, histtype='stepfilled',\n",
    "            orientation='vertical', color=color_palette[2])\n",
    "x_hist.hist(webda_BV, 40, histtype='stepfilled',\n",
    "            orientation='vertical', color=color_palette[4], alpha = 0.7)\n",
    "x_hist.invert_yaxis()\n",
    "\n",
    "y_hist.hist(y, 40, histtype='stepfilled',\n",
    "            orientation='horizontal', color=color_palette[2])\n",
    "y_hist.hist(webda_V, 40, histtype='stepfilled',\n",
    "            orientation='horizontal', color=color_palette[4])\n",
    "y_hist.invert_xaxis()\n",
    "\n",
    "main_ax.set_title('NGC 2324', fontsize = 24)\n",
    "main_ax.set_xlim(x_low, x_high); main_ax.set_ylim(y_low, y_high)\n",
    "# main_ax.set_xticks([])\n",
    "# main_ax.set_yticks([])\n",
    "main_ax.invert_yaxis()\n",
    "plt.show()"
   ]
  },
  {
   "cell_type": "markdown",
   "metadata": {},
   "source": [
    "# NGC 2355"
   ]
  },
  {
   "cell_type": "code",
   "execution_count": 595,
   "metadata": {},
   "outputs": [
    {
     "name": "stdout",
     "output_type": "stream",
     "text": [
      "Common Targets: 211\n"
     ]
    },
    {
     "name": "stderr",
     "output_type": "stream",
     "text": [
      "/Library/anaconda3/lib/python3.7/site-packages/ipykernel_launcher.py:13: RuntimeWarning: invalid value encountered in sqrt\n",
      "  del sys.path[0]\n",
      "/Library/anaconda3/lib/python3.7/site-packages/ipykernel_launcher.py:19: RuntimeWarning: invalid value encountered in log10\n"
     ]
    },
    {
     "name": "stdout",
     "output_type": "stream",
     "text": [
      "Average seperation from the center 2.7577813250835517\n",
      "\n",
      " This works: 209 \n",
      " 2021 Study: 261\n"
     ]
    },
    {
     "data": {
      "text/html": [
       "<div>\n",
       "<style scoped>\n",
       "    .dataframe tbody tr th:only-of-type {\n",
       "        vertical-align: middle;\n",
       "    }\n",
       "\n",
       "    .dataframe tbody tr th {\n",
       "        vertical-align: top;\n",
       "    }\n",
       "\n",
       "    .dataframe thead th {\n",
       "        text-align: right;\n",
       "    }\n",
       "</style>\n",
       "<table border=\"1\" class=\"dataframe\">\n",
       "  <thead>\n",
       "    <tr style=\"text-align: right;\">\n",
       "      <th></th>\n",
       "      <th>Unnamed: 0</th>\n",
       "      <th>RA_ICRS</th>\n",
       "      <th>DE_ICRS</th>\n",
       "      <th>e_RA_ICRS</th>\n",
       "      <th>e_DE_ICRS</th>\n",
       "      <th>mem_prob</th>\n",
       "    </tr>\n",
       "  </thead>\n",
       "  <tbody>\n",
       "    <tr>\n",
       "      <th>0</th>\n",
       "      <td>1</td>\n",
       "      <td>109.232014</td>\n",
       "      <td>13.615016</td>\n",
       "      <td>0.0213</td>\n",
       "      <td>0.0191</td>\n",
       "      <td>0.653191</td>\n",
       "    </tr>\n",
       "    <tr>\n",
       "      <th>1</th>\n",
       "      <td>7</td>\n",
       "      <td>109.247346</td>\n",
       "      <td>13.624913</td>\n",
       "      <td>0.2255</td>\n",
       "      <td>0.1990</td>\n",
       "      <td>0.683632</td>\n",
       "    </tr>\n",
       "    <tr>\n",
       "      <th>2</th>\n",
       "      <td>9</td>\n",
       "      <td>109.256378</td>\n",
       "      <td>13.619696</td>\n",
       "      <td>0.1186</td>\n",
       "      <td>0.1116</td>\n",
       "      <td>0.987663</td>\n",
       "    </tr>\n",
       "    <tr>\n",
       "      <th>3</th>\n",
       "      <td>10</td>\n",
       "      <td>109.265810</td>\n",
       "      <td>13.613109</td>\n",
       "      <td>0.5702</td>\n",
       "      <td>0.4927</td>\n",
       "      <td>1.000000</td>\n",
       "    </tr>\n",
       "    <tr>\n",
       "      <th>4</th>\n",
       "      <td>19</td>\n",
       "      <td>109.211012</td>\n",
       "      <td>13.611194</td>\n",
       "      <td>0.1659</td>\n",
       "      <td>0.1465</td>\n",
       "      <td>0.766160</td>\n",
       "    </tr>\n",
       "  </tbody>\n",
       "</table>\n",
       "</div>"
      ],
      "text/plain": [
       "   Unnamed: 0     RA_ICRS    DE_ICRS  e_RA_ICRS  e_DE_ICRS  mem_prob\n",
       "0           1  109.232014  13.615016     0.0213     0.0191  0.653191\n",
       "1           7  109.247346  13.624913     0.2255     0.1990  0.683632\n",
       "2           9  109.256378  13.619696     0.1186     0.1116  0.987663\n",
       "3          10  109.265810  13.613109     0.5702     0.4927  1.000000\n",
       "4          19  109.211012  13.611194     0.1659     0.1465  0.766160"
      ]
     },
     "execution_count": 595,
     "metadata": {},
     "output_type": "execute_result"
    }
   ],
   "source": [
    "# --- Loading Data and CMD --- \n",
    "mag_V, mag_B, snr_B, snr_V, sources_V, sources_B, seperation, target_coords_v = unifi_steps('astrometric_obs_data/NGC2355_V_wcs.fits', 'astrometric_obs_data/NGC2355_B_wcs.fits', 3)\n",
    "\n",
    "mag_Bc = lin_func(mag_B, mag_params['slope'][6], mag_params['constant'][6])\n",
    "mag_Vc = lin_func(mag_V, mag_params['slope'][7], mag_params['constant'][7])\n",
    "\n",
    "mag_V_err = covariance_propagation(mag_V, mag_params['slope_err'][3], mag_params['constant_err'][3])\n",
    "\n",
    "nan_mask = np.in1d(np.isnan(mag_Bc), np.isnan(mag_Vc))\n",
    "mag_Bc = mag_Bc[nan_mask]; mag_Vc = mag_Vc[nan_mask]\n",
    "target_coords_v = target_coords_v[nan_mask]\n",
    "\n",
    "data = pd.DataFrame({'mag_B': mag_Bc, 'emag_B':abs(1/snr_B)[nan_mask], 'mag_V':mag_Vc, 'emag_V':abs(1/snr_V)[nan_mask]})\n",
    "data.to_csv('calibrated_mags/berkeley28.csv')\n",
    "\n",
    "print('Average seperation from the center', seperation.mean()*60)\n",
    "\n",
    "gaia_data = pd.read_csv('gaia_cluster_populations/NGC2355.csv')\n",
    "gaia_coords = SkyCoord(gaia_data['RA_ICRS'], gaia_data['DE_ICRS'],unit = 'deg')\n",
    "\n",
    "matching_mags = []\n",
    "for i in range(0, len(target_coords_v)): \n",
    "        sep2tar = target_coords_v[i].separation(gaia_coords).degree\n",
    "        if sep2tar.min() < 20e-3: \n",
    "            matching_mags.append(i)\n",
    "            \n",
    "gaia_matched_B = mag_Bc[matching_mags]\n",
    "gaia_matched_V = mag_Vc[matching_mags]\n",
    "print('\\n This works:', len(gaia_matched_B), '\\n 2021 Study: 261')\n",
    "gaia_data.head()\n",
    "\n",
    "\n",
    "# --- Archived Data for the plot --- \n",
    "webda_V, webda_BV = np.loadtxt('calibration_parameters/magnitude_processing/NGC2324_WEBDA.txt', usecols = (2, 3), unpack = True)\n",
    "\n",
    "\n",
    "# --- Plotting Isochrone and CMD --- \n",
    "y = gaia_matched_V\n",
    "x = (gaia_matched_B - gaia_matched_V)\n",
    "\n",
    "# - Setting up grid for multi-histogram plot -\n",
    "fig = plt.figure(figsize=(10, 10), dpi = 100)\n",
    "grid = plt.GridSpec(4, 4, hspace=0.2, wspace=0.2)\n",
    "main_ax = fig.add_subplot(grid[:-1, 1:])\n",
    "y_hist = fig.add_subplot(grid[:-1, 0], xticklabels=[], sharey=main_ax)\n",
    "x_hist = fig.add_subplot(grid[-1, 1:], yticklabels=[], sharex=main_ax)\n",
    "\n",
    "\n",
    "# - Intialising and Fitting Isochrone \n",
    "isochrone = iso.isochrone(age = 8.65, feh = -0.52)\n",
    "modelv = isochrone['V_mag'] + 13.1\n",
    "modelbv = (isochrone['B_mag'] - isochrone['V_mag']) + .627\n",
    "main_ax.plot(modelbv, modelv)\n",
    "\n",
    "# scatter points on the main axes\n",
    "\n",
    "main_ax.scatter(x, y, color = color_palette[2], s=dot_size, alpha=0.8)\n",
    "# main_ax.scatter(webda_BV, webda_V, color = color_palette[3], s=dot_size, alpha=0.8)\n",
    "x_low, x_high = ((x.min() - 0.5), (x.max() + 0.5)); y_low, y_high = ((y.min() - 1), (y.max() + 3))\n",
    "\n",
    "# histogram on the attached axes\n",
    "x_hist.hist(x, 40, histtype='stepfilled',\n",
    "            orientation='vertical', color=color_palette[2])\n",
    "x_hist.hist(webda_BV, 40, histtype='stepfilled',\n",
    "            orientation='vertical', color=color_palette[4], alpha = 0.7)\n",
    "x_hist.invert_yaxis()\n",
    "\n",
    "y_hist.hist(y, 40, histtype='stepfilled',\n",
    "            orientation='horizontal', color=color_palette[2])\n",
    "y_hist.hist(webda_V, 40, histtype='stepfilled',\n",
    "            orientation='horizontal', color=color_palette[4])\n",
    "y_hist.invert_xaxis()\n",
    "\n",
    "main_ax.set_title('NGC 2324', fontsize = 24)\n",
    "main_ax.set_xlim(x_low, x_high); main_ax.set_ylim(y_low, y_high)\n",
    "# main_ax.set_xticks([])\n",
    "# main_ax.set_yticks([])\n",
    "main_ax.invert_yaxis()\n",
    "plt.show()"
   ]
  }
 ],
 "metadata": {
  "interpreter": {
   "hash": "73df3d2a648ddfe6e132dd0b2981f8c5ee01eb57f65aaa52301d101a94b0ebb5"
  },
  "kernelspec": {
   "display_name": "Python 3.7.11 ('base')",
   "language": "python",
   "name": "python3"
  },
  "language_info": {
   "codemirror_mode": {
    "name": "ipython",
    "version": 3
   },
   "file_extension": ".py",
   "mimetype": "text/x-python",
   "name": "python",
   "nbconvert_exporter": "python",
   "pygments_lexer": "ipython3",
   "version": "3.7.11"
  },
  "orig_nbformat": 4
 },
 "nbformat": 4,
 "nbformat_minor": 2
}
