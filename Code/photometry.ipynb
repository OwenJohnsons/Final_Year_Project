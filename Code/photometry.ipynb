{
 "cells": [
  {
   "cell_type": "code",
   "execution_count": 95,
   "metadata": {},
   "outputs": [],
   "source": [
    "from matplotlib import pyplot as plt \n",
    "from astropy import units as u\n",
    "from photutils import DAOStarFinder\n",
    "from astropy.io import fits\n",
    "from astropy.visualization import *\n",
    "from astropy.stats import mad_std\n",
    "from photutils import * \n",
    "from astropy import wcs\n",
    "import lmfit\n",
    "from lmfit.lineshapes import gaussian2d, lorentzian\n",
    "\n",
    "# --- Astronomy Related Packages --- \n",
    "from photutils import *\n",
    "from astropy import units as u\n",
    "from astropy import wcs\n",
    "from astropy.io import fits\n",
    "from astropy.stats import mad_std\n",
    "from astropy.visualization import *\n",
    "from astrofyp_functions import *\n",
    "from astropy.coordinates import Angle, SkyCoord\n",
    "import astropy.coordinates as coord\n",
    "from astroquery.vizier import Vizier\n",
    "Vizier.ROW_LIMIT = -1"
   ]
  },
  {
   "cell_type": "code",
   "execution_count": 21,
   "metadata": {},
   "outputs": [],
   "source": [
    "# --- Plot Parameters ---- \n",
    "plt.rcParams[\"figure.figsize\"] = (10,10)\n",
    "plt.rcParams[\"figure.dpi\"] = 100\n",
    "# plt.rc('font', family = 'serif', serif = 'cmr10') \n",
    "# plt.rcParams.update({# Use mathtext, not LaTeX\n",
    "#                             'text.usetex': True,\n",
    "#                             # Use the Computer modern font\n",
    "#                             'font.family': 'serif',\n",
    "#                             'font.serif': 'cmr10',\n",
    "#                             'mathtext.fontset': 'cm',\n",
    "#                             })\n",
    "plt.rcParams.update({'font.size': 22})\n",
    "plt.rcParams['axes.unicode_minus'] = False\n",
    "plt.rcParams['mathtext.fontset'] = 'stix'\n",
    "plt.rcParams['axes.labelsize'] = 30\n",
    "plt.rcParams['axes.spines.right'] = False\n",
    "plt.rcParams['axes.spines.top'] = False\n",
    "colour_arrays = ['red', 'blue', 'green', 'crimson', 'lime']"
   ]
  },
  {
   "cell_type": "markdown",
   "metadata": {},
   "source": [
    "### DAO Starfinder "
   ]
  },
  {
   "cell_type": "code",
   "execution_count": 36,
   "metadata": {},
   "outputs": [],
   "source": [
    "def starfinder(data, fwhm, thrs, plot_cond):\n",
    "\n",
    "    mst_std = mad_std(data)\n",
    "    daofind = DAOStarFinder(fwhm = fwhm, threshold = thrs*mst_std)\n",
    "    mst_sources = daofind(data)\n",
    "\n",
    "    for col in mst_sources.colnames: \n",
    "        mst_sources[col].info.format = '%.8g'\n",
    "\n",
    "    if plot_cond == True: \n",
    "        plt.scatter(mst_sources['xcentroid'], mst_sources['ycentroid'], facecolors='none', edgecolors='lime')\n",
    "        for i in range(0, len(mst_sources)):\n",
    "            plt.annotate((i + 1), xy = (mst_sources['xcentroid'][i], mst_sources['ycentroid'][i]), fontsize= 5)\n",
    "        plt.imshow(bochum2_B, vmin = bochum2_B.mean() - bochum2_B.std(), vmax = bochum2_B.mean() + bochum2_B.std(), cmap = 'gist_yarg'); plt.show()\n",
    "        plt.show()\n",
    "\n",
    "    return mst_sources\n",
    "\n",
    "def save_Qtable(Qtable, filename):\n",
    "    df = Qtable.to_pandas()\n",
    "    df.to_csv(filename)\n",
    "    "
   ]
  },
  {
   "cell_type": "code",
   "execution_count": 23,
   "metadata": {},
   "outputs": [
    {
     "data": {
      "text/plain": [
       "['berkeley28_B_wcs.fits',\n",
       " 'NGC2324_B_wcs.fits',\n",
       " 'berkeley28_V_wcs.fits',\n",
       " '.DS_Store',\n",
       " '.thumbs',\n",
       " 'NGC2324_V_wcs.fits',\n",
       " 'NGC2355_B_wcs.fits',\n",
       " 'NGC2355_V_wcs.fits',\n",
       " 'Bochum2_V_wcs.fits',\n",
       " 'Bochum2_B_wcs.fits']"
      ]
     },
     "execution_count": 23,
     "metadata": {},
     "output_type": "execute_result"
    }
   ],
   "source": [
    "import os \n",
    "os.listdir('astrometric_obs_data/')"
   ]
  },
  {
   "cell_type": "code",
   "execution_count": 298,
   "metadata": {},
   "outputs": [],
   "source": [
    "filename_B = 'processed_data/bochum2_B.fits'\n",
    "filename_V = 'processed_data/bochum2_V.fits'\n",
    "\n",
    "image_B = fits.getdata(filename_B)\n",
    "image_V = fits.getdata(filename_V)"
   ]
  },
  {
   "cell_type": "markdown",
   "metadata": {},
   "source": [
    "## Bochum 2 "
   ]
  },
  {
   "cell_type": "code",
   "execution_count": 287,
   "metadata": {},
   "outputs": [
    {
     "ename": "TypeError",
     "evalue": "'module' object is not callable",
     "output_type": "error",
     "traceback": [
      "\u001b[0;31m---------------------------------------------------------------------------\u001b[0m",
      "\u001b[0;31mTypeError\u001b[0m                                 Traceback (most recent call last)",
      "\u001b[0;32m<ipython-input-287-834e7a823b74>\u001b[0m in \u001b[0;36m<module>\u001b[0;34m\u001b[0m\n\u001b[1;32m      1\u001b[0m \u001b[0mbochum2_B\u001b[0m \u001b[0;34m=\u001b[0m \u001b[0mfits\u001b[0m\u001b[0;34m.\u001b[0m\u001b[0mgetdata\u001b[0m\u001b[0;34m(\u001b[0m\u001b[0;34m'processed_data/bochum2_B.fits'\u001b[0m\u001b[0;34m)\u001b[0m\u001b[0;34m\u001b[0m\u001b[0;34m\u001b[0m\u001b[0m\n\u001b[0;32m----> 2\u001b[0;31m \u001b[0mbochum2_sources__B\u001b[0m \u001b[0;34m=\u001b[0m \u001b[0mstarfinder\u001b[0m\u001b[0;34m(\u001b[0m\u001b[0mbochum2_B\u001b[0m\u001b[0;34m,\u001b[0m \u001b[0;36m3.5\u001b[0m\u001b[0;34m,\u001b[0m \u001b[0;36m5\u001b[0m\u001b[0;34m,\u001b[0m \u001b[0;32mTrue\u001b[0m\u001b[0;34m)\u001b[0m\u001b[0;34m\u001b[0m\u001b[0;34m\u001b[0m\u001b[0m\n\u001b[0m\u001b[1;32m      3\u001b[0m \u001b[0msave_Qtable\u001b[0m\u001b[0;34m(\u001b[0m\u001b[0mbochum2_sources__B\u001b[0m\u001b[0;34m,\u001b[0m \u001b[0;34m'processed_data/star_detection/bochum2_B.csv'\u001b[0m\u001b[0;34m)\u001b[0m\u001b[0;34m\u001b[0m\u001b[0;34m\u001b[0m\u001b[0m\n\u001b[1;32m      4\u001b[0m \u001b[0;34m\u001b[0m\u001b[0m\n\u001b[1;32m      5\u001b[0m \u001b[0mbochum2_V\u001b[0m \u001b[0;34m=\u001b[0m \u001b[0mfits\u001b[0m\u001b[0;34m.\u001b[0m\u001b[0mgetdata\u001b[0m\u001b[0;34m(\u001b[0m\u001b[0;34m'processed_data/bochum2_V.fits'\u001b[0m\u001b[0;34m)\u001b[0m\u001b[0;34m\u001b[0m\u001b[0;34m\u001b[0m\u001b[0m\n",
      "\u001b[0;31mTypeError\u001b[0m: 'module' object is not callable"
     ]
    }
   ],
   "source": [
    "bochum2_B = fits.getdata('processed_data/bochum2_B.fits')\n",
    "bochum2_sources__B = starfinder(bochum2_B, 3.5, 5, True)\n",
    "save_Qtable(bochum2_sources__B, 'processed_data/star_detection/bochum2_B.csv')\n",
    "\n",
    "bochum2_V = fits.getdata('processed_data/bochum2_V.fits')\n",
    "bochum2_sources__V = starfinder(bochum2_V, 3.9, 5, True)"
   ]
  },
  {
   "cell_type": "code",
   "execution_count": null,
   "metadata": {},
   "outputs": [
    {
     "name": "stdout",
     "output_type": "stream",
     "text": [
      "277 150\n"
     ]
    }
   ],
   "source": [
    "print(len(bochum2_sources__B), len(bochum2_sources__V))"
   ]
  },
  {
   "cell_type": "markdown",
   "metadata": {},
   "source": [
    "### Star Comparison "
   ]
  },
  {
   "cell_type": "code",
   "execution_count": null,
   "metadata": {},
   "outputs": [],
   "source": [
    "def find_nearest(array, value):\n",
    "    array = np.asarray(array); idx = (np.abs(array - value)).argmin()\n",
    "    return array[idx], idx"
   ]
  },
  {
   "cell_type": "code",
   "execution_count": null,
   "metadata": {},
   "outputs": [],
   "source": [
    "v_sources = bochum2_sources__V; b_sources = bochum2_sources__B"
   ]
  },
  {
   "cell_type": "code",
   "execution_count": 309,
   "metadata": {},
   "outputs": [],
   "source": [
    "vhdulist = fits.open('astrometric_obs_data/Bochum2_V_wcs.fits')\n",
    "v_wcs = wcs.WCS(vhdulist[0].header)\n",
    "x_cordv = v_sources['xcentroid']; y_cordv = v_sources['ycentroid']\n",
    "v_cord = v_wcs.pixel_to_world(x_cordv, y_cordv)\n",
    "\n",
    "bhdulist = fits.open('astrometric_obs_data/Bochum2_B_wcs.fits')\n",
    "x_cordb = b_sources['xcentroid']; y_cordb = b_sources['ycentroid']\n",
    "b_wcs = wcs.WCS(bhdulist[0].header)\n",
    "b_cord = b_wcs.pixel_to_world(x_cordb, y_cordb)\n",
    "\n",
    "vcoord_index = []; bcoord_index = []\n",
    "\n",
    "v_idx = 0; b_idx = 0 \n",
    "for cord in v_cord: \n",
    "    sep2tar = cord.separation(b_cord).degree\n",
    "    if sep2tar.min() < 1e-4: \n",
    "        vcoord_index.append(v_idx)\n",
    "        bcoord_index.append(np.argmin(sep2tar))\n",
    "    b_idx += 1\n",
    "    v_idx += 1 \n",
    "\n",
    "v_sources = v_sources[vcoord_index]; b_sources = b_sources[bcoord_index]\n",
    "\n",
    "if len(v_sources) != len(b_sources):\n",
    "    print('HALT!') "
   ]
  },
  {
   "cell_type": "markdown",
   "metadata": {},
   "source": [
    "## Aperture Photometry "
   ]
  },
  {
   "cell_type": "markdown",
   "metadata": {},
   "source": [
    "### Aperture Optimisation \n",
    "\n",
    "\\begin{equation}\n",
    "SNR = \\dfrac{N^{net}_{star}}{\\sqrt{N^{net}_{star}+N_{sky}+N_{noise}}}\n",
    "\\end{equation}"
   ]
  },
  {
   "cell_type": "code",
   "execution_count": null,
   "metadata": {},
   "outputs": [],
   "source": [
    "def star_distribution(sources): \n",
    "    bright_mask = sources.argsort(['flux']) # - creating mask for array so stars can be index in order of decending brightness \n",
    "    for i in range(0, len(sources)):\n",
    "        test_stars = [sources['xcentroid'][bright_mask[i]], sources['ycentroid'][bright_mask[i]]]\n",
    "\n",
    "        image = bhdulist[0].data\n",
    "        x = int(test_stars[0]); y = int(test_stars[1])\n",
    "    plt.plot(image[y, (x-10):(x+10)])"
   ]
  },
  {
   "cell_type": "code",
   "execution_count": 295,
   "metadata": {},
   "outputs": [],
   "source": [
    "def aper_optimiser(file_name, sources, plot_cond, x1, x2, y1, y2):\n",
    "    # - background count - \n",
    "    image = fits.getdata(file_name)\n",
    "    bkg_mean = np.mean(image[x1:x2, y1:y2]) # - taking starless region from the frame as background. \n",
    "    print('Bkg Mean:', '{:.3f}'.format(bkg_mean))\n",
    "\n",
    "    snr_values = []; opti_values = []\n",
    "    trial_radius = np.arange(1, 10, 0.01) # - trial apertures. \n",
    "\n",
    "    for i in range(0, len(sources)):\n",
    "        mask_idx = sources.argsort(['flux'])[i]\n",
    "        test_stars = [sources['xcentroid'][mask_idx], sources['ycentroid'][mask_idx]]\n",
    "\n",
    "        x = int(test_stars[0]); y = int(test_stars[1])\n",
    "\n",
    "        apertures = [CircularAperture(test_stars, r=r) for r in trial_radius]\n",
    "        phot_table = aperture_photometry(image, apertures)\n",
    "        for col in phot_table.colnames:\n",
    "            phot_table[col].info.format = '%.8g'\n",
    "\n",
    "        snr = np.array([])\n",
    "        index = 0\n",
    "        for col in phot_table.colnames[3:]:\n",
    "            bkg_total = bkg_mean * apertures[index].area\n",
    "            net_star = phot_table[col] - bkg_total\n",
    "            snr = np.append(snr, net_star / np.sqrt(net_star + bkg_total))\n",
    "            index += 1\n",
    "\n",
    "        opti_aper = trial_radius[np.argmax(snr)]\n",
    "        opti_values.append(opti_aper)\n",
    "        snr_values.append(snr[np.argmax(snr)])\n",
    "\n",
    "    snr_values = np.array(snr_values); opti_values = np.array(opti_values)\n",
    "    mask_i = np.where(snr_values < 50)\n",
    "    mean_thrs = opti_values[mask_i].mean()\n",
    "\n",
    "    print('Optimum aperture thresehold overall:', opti_values.mean())\n",
    "    print('Optimum aperture thresehold under 50 SNR:', mean_thrs)\n",
    "\n",
    "    if plot_cond == True: \n",
    "        plt.scatter(opti_values, snr_values, s = 10)\n",
    "        plt.xlabel('Opti. Aperture Size'); plt.ylabel('SNR')\n",
    "        plt.axvline(np.mean(opti_values), color = 'red', label = 'Mean Aper')\n",
    "        plt.axhline(np.mean(snr_values), color = 'lime', label = 'Mean SNR')\n",
    "        plt.scatter(opti_values, snr_values, s = 10)\n",
    "        plt.legend()\n",
    "\n",
    "    return mean_thrs, bkg_mean"
   ]
  },
  {
   "cell_type": "code",
   "execution_count": 296,
   "metadata": {},
   "outputs": [
    {
     "name": "stdout",
     "output_type": "stream",
     "text": [
      "B Filter:\n",
      "Bkg Mean: 778.034\n",
      "Optimum aperture thresehold overall: 3.1887364620938645\n",
      "Optimum aperture thresehold under 50 SNR: 3.156679687500002\n",
      "V Filter\n",
      "Bkg Mean: 781.186\n",
      "Optimum aperture thresehold overall: 4.535666666666669\n",
      "Optimum aperture thresehold under 50 SNR: 4.72614754098361\n"
     ]
    }
   ],
   "source": [
    "print('B Filter:')\n",
    "b_apr, b_bkg = aper_optimiser(filename_B, b_sources, False, 300, 400, 600, 650)\n",
    "\n",
    "print('V Filter')\n",
    "v_apr, v_bkg = aper_optimiser(filename_V, v_sources, False, 300, 400, 600, 650)"
   ]
  },
  {
   "cell_type": "markdown",
   "metadata": {},
   "source": [
    "---"
   ]
  },
  {
   "cell_type": "code",
   "execution_count": 305,
   "metadata": {},
   "outputs": [
    {
     "name": "stdout",
     "output_type": "stream",
     "text": [
      "    aperture_sum   \n",
      "-------------------\n",
      "-11.289833173178433\n",
      "-11.286984763310544\n",
      "-12.008242645952373\n",
      "-12.065131228407433\n",
      "-11.928214110042237\n",
      "-11.896677565297226\n",
      "-11.871985210618023\n",
      "-11.912965656225108\n",
      "-12.043407007439725\n",
      "-13.225110640541153\n",
      "                ...\n",
      "   -11.872396604579\n",
      "-11.856252706086362\n",
      "-11.874173218226801\n",
      "-11.872230819318908\n",
      "-12.069060584384063\n",
      "-11.867061022341128\n",
      "-11.861166670753002\n",
      "-11.885294250414278\n",
      "-12.105043030196667\n",
      " -11.26198513450522\n",
      "-11.250062059960008\n",
      "Length = 150 rows\n"
     ]
    }
   ],
   "source": [
    "def aper_photometry(data, sources, aper, bkg_counts):\n",
    "    positions = np.transpose((sources['xcentroid'], sources['ycentroid']))\n",
    "\n",
    "    # Aperture  \n",
    "    aperture = CircularAperture(positions, r=aper)\n",
    "    phot_table = aperture_photometry(data, aperture)\n",
    "\n",
    "    # # Now we get the final table of background subtracted counts for each star\n",
    "    final_sum = phot_table['aperture_sum'] - bkg_counts\n",
    "\n",
    "    return -2.5*np.log10(final_sum)"
   ]
  },
  {
   "cell_type": "code",
   "execution_count": 310,
   "metadata": {},
   "outputs": [],
   "source": [
    "v_photometry = aper_photometry(image_V, v_sources, v_apr, v_bkg)\n",
    "b_photometry = aper_photometry(image_B, b_sources, b_apr, b_bkg)"
   ]
  },
  {
   "cell_type": "code",
   "execution_count": 311,
   "metadata": {},
   "outputs": [
    {
     "data": {
      "text/plain": [
       "<matplotlib.collections.PathCollection at 0x7fac5abe5c10>"
      ]
     },
     "execution_count": 311,
     "metadata": {},
     "output_type": "execute_result"
    },
    {
     "data": {
      "image/png": "[encoded data removed]",
      "text/plain": [
       "<Figure size 1000x1000 with 1 Axes>"
      ]
     },
     "metadata": {
      "needs_background": "light"
     },
     "output_type": "display_data"
    }
   ],
   "source": [
    "bv = b_photometry - v_photometry\n",
    "v = v_photometry\n",
    "\n",
    "plt.scatter(bv, v)"
   ]
  }
 ],
 "metadata": {
  "interpreter": {
   "hash": "73df3d2a648ddfe6e132dd0b2981f8c5ee01eb57f65aaa52301d101a94b0ebb5"
  },
  "kernelspec": {
   "display_name": "Python 3.7.11 ('base')",
   "language": "python",
   "name": "python3"
  },
  "language_info": {
   "codemirror_mode": {
    "name": "ipython",
    "version": 3
   },
   "file_extension": ".py",
   "mimetype": "text/x-python",
   "name": "python",
   "nbconvert_exporter": "python",
   "pygments_lexer": "ipython3",
   "version": "3.7.11"
  },
  "orig_nbformat": 4
 },
 "nbformat": 4,
 "nbformat_minor": 2
}
